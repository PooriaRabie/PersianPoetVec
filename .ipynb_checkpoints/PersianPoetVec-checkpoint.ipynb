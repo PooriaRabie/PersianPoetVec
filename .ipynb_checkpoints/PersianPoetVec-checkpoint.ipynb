{
 "cells": [
  {
   "cell_type": "code",
   "execution_count": 1,
   "id": "4b4978cf-385c-462e-b366-2e54b4a3d65c",
   "metadata": {},
   "outputs": [
    {
     "name": "stdout",
     "output_type": "stream",
     "text": [
      "Requirement already satisfied: gensim in c:\\users\\masi\\anaconda3\\lib\\site-packages (4.3.3)\n",
      "Requirement already satisfied: numpy<2.0,>=1.18.5 in c:\\users\\masi\\anaconda3\\lib\\site-packages (from gensim) (1.24.3)\n",
      "Requirement already satisfied: scipy<1.14.0,>=1.7.0 in c:\\users\\masi\\anaconda3\\lib\\site-packages (from gensim) (1.10.1)\n",
      "Requirement already satisfied: smart-open>=1.8.1 in c:\\users\\masi\\anaconda3\\lib\\site-packages (from gensim) (5.2.1)\n",
      "Note: you may need to restart the kernel to use updated packages.\n"
     ]
    }
   ],
   "source": [
    "pip install gensim"
   ]
  },
  {
   "cell_type": "code",
   "execution_count": 2,
   "id": "3182df82-ff7c-4154-ae4c-97d5883dc1fe",
   "metadata": {},
   "outputs": [],
   "source": [
    "from gensim.models import Word2Vec\n",
    "import numpy as np\n",
    "import pandas as pd\n",
    "import matplotlib.pyplot as plt\n",
    "import codecs\n",
    "from gensim.models import KeyedVectors\n",
    "from sklearn.decomposition import PCA\n",
    "\n",
    "%matplotlib inline"
   ]
  },
  {
   "cell_type": "code",
   "execution_count": 3,
   "id": "6f5c5e4e-361b-49a2-a317-9aba2653df9c",
   "metadata": {},
   "outputs": [
    {
     "name": "stdout",
     "output_type": "stream",
     "text": [
      "CPU times: total: 594 ms\n",
      "Wall time: 2.55 s\n"
     ]
    }
   ],
   "source": [
    "%%time\n",
    "corpus = []\n",
    "with codecs.open(\"Data/persian_poet.txt\", \"r\", \"utf-8\") as text:\n",
    "    for sentence in text:\n",
    "        word_list = [word for word in sentence.split()]\n",
    "        corpus.append(word_list)"
   ]
  },
  {
   "cell_type": "code",
   "execution_count": 8,
   "id": "3ae1ece6-49a7-4e38-a921-c0bcfe36c3e1",
   "metadata": {},
   "outputs": [
    {
     "data": {
      "text/plain": [
       "78104"
      ]
     },
     "execution_count": 8,
     "metadata": {},
     "output_type": "execute_result"
    }
   ],
   "source": [
    "len(corpus)"
   ]
  },
  {
   "cell_type": "code",
   "execution_count": 14,
   "id": "e1b7df38-63f8-4539-88a3-d747cbdadf00",
   "metadata": {},
   "outputs": [
    {
     "name": "stdout",
     "output_type": "stream",
     "text": [
      "[['اول', 'دفتر', 'به', 'نام', 'ايزد', 'دانا', 'صانع', 'پروردگار', 'حی', 'توانا'], ['اکبر', 'و', 'اعظم', 'خدای', 'عالم', 'و', 'آدم', 'صورت', 'خوب', 'آفريد', 'و', 'سيرت', 'زيبا']]\n"
     ]
    }
   ],
   "source": [
    "print(corpus[0:2])"
   ]
  },
  {
   "cell_type": "markdown",
   "id": "3ec784ec-42a3-4879-8145-a3ad011a2ee3",
   "metadata": {},
   "source": [
    "Gensim Word2Vec Hyperparameters\n",
    "1. sentences\n",
    "Description: The input text corpus, typically provided as a list of sentences. Each sentence is represented as a list of words.\n",
    "Type: List[List[str]]\n",
    "Example: [['dog', 'barks'], ['cat', 'meows']]\n",
    "2. vector_size\n",
    "Description: The dimensionality of the word vectors. Larger values lead to richer word representations, but may also lead to overfitting.\n",
    "Type: int\n",
    "Default: 100\n",
    "Range: Typically between 100 and 500.\n",
    "Example: 300\n",
    "3. window\n",
    "Description: The maximum distance between the current and predicted word within a sentence. This determines the size of the context window.\n",
    "Type: int\n",
    "Default: 5\n",
    "Range: Typically between 1 and 15.\n",
    "Example: 10\n",
    "4. min_count\n",
    "Description: Ignores all words with total frequency lower than this value. This helps to reduce noise from rare words and improves model quality.\n",
    "Type: int\n",
    "Default: 5\n",
    "Example: 10\n",
    "5. workers\n",
    "Description: The number of CPU cores to use when training the model. Using more cores will speed up training, but may require more system resources.\n",
    "Type: int\n",
    "Default: 1 (single core)\n",
    "Example: 4 (for using 4 cores)\n",
    "6. sg (Skip-Gram)\n",
    "Description: Whether to use the Skip-Gram model (sg=1) or Continuous Bag of Words (CBOW) (sg=0).\n",
    "Type: int\n",
    "Default: 0 (CBOW)\n",
    "Example: 1 (Skip-Gram)\n",
    "7. hs (Hierarchical Softmax)\n",
    "Description: Whether to use hierarchical softmax instead of negative sampling. This is a more efficient way to approximate the softmax function.\n",
    "Type: int\n",
    "Default: 0 (Use negative sampling)\n",
    "Example: 1 (Use hierarchical softmax)\n",
    "8. negative\n",
    "Description: The number of negative samples to use. Higher values speed up training but may reduce the quality of embeddings.\n",
    "Type: int\n",
    "Default: 5\n",
    "Range: Typically between 5 and 20.\n",
    "Example: 10\n",
    "9. alpha\n",
    "Description: The initial learning rate, which is gradually decreased as training progresses.\n",
    "Type: float\n",
    "Default: 0.025\n",
    "Range: Typically between 0.001 and 0.05.\n",
    "Example: 0.01\n",
    "10. min_alpha\n",
    "Description: The minimum learning rate at the end of training. This is used to gradually decay the learning rate from alpha to min_alpha.\n",
    "Type: float\n",
    "Default: 0.0001\n",
    "Example: 0.0001\n",
    "11. epochs\n",
    "Description: The number of times the model iterates over the entire corpus.\n",
    "Type: int\n",
    "Default: 5\n",
    "Range: Typically between 5 and 50.\n",
    "Example: 25\n",
    "12. compute_loss\n",
    "Description: Whether to track the loss during training. This is useful for monitoring convergence.\n",
    "Type: bool\n",
    "Default: False\n",
    "Example: True\n",
    "13. cbow_mean\n",
    "Description: This parameter is specific to the CBOW model. It controls the way the context vector is constructed. If True, it uses the mean of the context words; if False, it uses the sum.\n",
    "Type: bool\n",
    "Default: True (for CBOW)\n",
    "Example: False (to use sum instead of mean)\n",
    "14. hs_power\n",
    "Description: Power parameter for hierarchical softmax. Controls the balance between high-frequency and low-frequency words.\n",
    "Type: float\n",
    "Default: 0.5\n",
    "Range: Between 0 and 1.\n",
    "Example: 0.75\n",
    "15. sample\n",
    "Description: The threshold for configuring which higher-frequency words are randomly down-sampled. Words that appear more frequently than this threshold will be down-sampled.\n",
    "Type: float\n",
    "Default: 1e-3\n",
    "Range: Between 1e-5 and 1e-2.\n",
    "Example: 1e-4\n",
    "16. alpha_decay\n",
    "Description: This controls the decay rate of the learning rate over epochs. If set, the learning rate will decay exponentially based on this parameter.\n",
    "Type: float\n",
    "Default: None\n",
    "Example: 0.01\n",
    "17. batch_words\n",
    "Description: The number of words to process at a time for each update.\n",
    "Type: int\n",
    "Default: 10000\n",
    "Example: 5000\n",
    "18. epochs_total\n",
    "Description: Total number of epochs to train. If epochs is set, this parameter will override it.\n",
    "Type: int\n",
    "Default: None\n",
    "Example: 15\n",
    "19. max_final_vocab\n",
    "Description: Limit the size of the vocabulary after training by removing all low-frequency words.\n",
    "Type: int\n",
    "Default: None\n",
    "Example: 20000"
   ]
  },
  {
   "cell_type": "markdown",
   "id": "156085a5-820d-4114-aa8e-53af462cb9f0",
   "metadata": {},
   "source": [
    "Summary of Key Hyperparameters:\n",
    "Training Configurations:\n",
    "window, min_count, sg, hs, negative, epochs\n",
    "Model Configurations:\n",
    "vector_size, cbow_mean, sample\n",
    "Optimization:\n",
    "alpha, min_alpha, compute_loss"
   ]
  },
  {
   "cell_type": "markdown",
   "id": "707a271d-6f96-45b5-9fdb-e0c430268e97",
   "metadata": {},
   "source": [
    "Skip-gram (SG) vs. CBOW (Continuous Bag of Words)\n",
    "Skip-gram (sg=1) is generally better at capturing rare word contexts and relationships, making it ideal for poetry, where unique and infrequent words may carry deeper meanings.\n",
    "CBOW (sg=0) is faster and typically works well for common words but can struggle with rare words.\n",
    "For your poetry dataset, Skip-gram is likely the better option because poetry often contains unique language and rare word patterns that Skip-gram can capture more effectively."
   ]
  },
  {
   "cell_type": "code",
   "execution_count": 65,
   "id": "0aaefed2-13ad-4d6d-b182-a77bd1bc9511",
   "metadata": {},
   "outputs": [
    {
     "name": "stdout",
     "output_type": "stream",
     "text": [
      "Collecting optuna\n",
      "  Downloading optuna-4.0.0-py3-none-any.whl.metadata (16 kB)\n",
      "Collecting alembic>=1.5.0 (from optuna)\n",
      "  Downloading alembic-1.14.0-py3-none-any.whl.metadata (7.4 kB)\n",
      "Collecting colorlog (from optuna)\n",
      "  Downloading colorlog-6.9.0-py3-none-any.whl.metadata (10 kB)\n",
      "Requirement already satisfied: numpy in c:\\users\\masi\\anaconda3\\lib\\site-packages (from optuna) (1.24.3)\n",
      "Requirement already satisfied: packaging>=20.0 in c:\\users\\masi\\anaconda3\\lib\\site-packages (from optuna) (24.1)\n",
      "Requirement already satisfied: sqlalchemy>=1.3.0 in c:\\users\\masi\\anaconda3\\lib\\site-packages (from optuna) (2.0.34)\n",
      "Requirement already satisfied: tqdm in c:\\users\\masi\\anaconda3\\lib\\site-packages (from optuna) (4.66.5)\n",
      "Requirement already satisfied: PyYAML in c:\\users\\masi\\anaconda3\\lib\\site-packages (from optuna) (6.0.2)\n",
      "Collecting Mako (from alembic>=1.5.0->optuna)\n",
      "  Downloading Mako-1.3.6-py3-none-any.whl.metadata (2.9 kB)\n",
      "Requirement already satisfied: typing-extensions>=4 in c:\\users\\masi\\anaconda3\\lib\\site-packages (from alembic>=1.5.0->optuna) (4.11.0)\n",
      "Requirement already satisfied: importlib-metadata in c:\\users\\masi\\anaconda3\\lib\\site-packages (from alembic>=1.5.0->optuna) (7.0.1)\n",
      "Requirement already satisfied: importlib-resources in c:\\users\\masi\\anaconda3\\lib\\site-packages (from alembic>=1.5.0->optuna) (6.4.0)\n",
      "Requirement already satisfied: greenlet!=0.4.17 in c:\\users\\masi\\anaconda3\\lib\\site-packages (from sqlalchemy>=1.3.0->optuna) (3.0.1)\n",
      "Requirement already satisfied: colorama in c:\\users\\masi\\anaconda3\\lib\\site-packages (from colorlog->optuna) (0.4.6)\n",
      "Requirement already satisfied: zipp>=0.5 in c:\\users\\masi\\anaconda3\\lib\\site-packages (from importlib-metadata->alembic>=1.5.0->optuna) (3.20.2)\n",
      "Requirement already satisfied: MarkupSafe>=0.9.2 in c:\\users\\masi\\anaconda3\\lib\\site-packages (from Mako->alembic>=1.5.0->optuna) (2.1.3)\n",
      "Downloading optuna-4.0.0-py3-none-any.whl (362 kB)\n",
      "Downloading alembic-1.14.0-py3-none-any.whl (233 kB)\n",
      "Downloading colorlog-6.9.0-py3-none-any.whl (11 kB)\n",
      "Downloading Mako-1.3.6-py3-none-any.whl (78 kB)\n",
      "Installing collected packages: Mako, colorlog, alembic, optuna\n",
      "Successfully installed Mako-1.3.6 alembic-1.14.0 colorlog-6.9.0 optuna-4.0.0\n",
      "Note: you may need to restart the kernel to use updated packages.\n"
     ]
    }
   ],
   "source": [
    "pip install optuna"
   ]
  },
  {
   "cell_type": "code",
   "execution_count": 74,
   "id": "15a95258-03ac-46f3-bc10-457dd7812266",
   "metadata": {},
   "outputs": [
    {
     "name": "stderr",
     "output_type": "stream",
     "text": [
      "[I 2024-11-12 03:54:30,420] A new study created in memory with name: no-name-c7b310c9-d37f-4656-825e-c96ee3c0553e\n",
      "[I 2024-11-12 03:55:04,091] Trial 0 finished with value: 6754167.0 and parameters: {'vector_size': 425, 'window': 11, 'min_count': 17, 'negative': 11, 'alpha': 0.03900764904989493, 'epochs': 31}. Best is trial 0 with value: 6754167.0.\n",
      "[I 2024-11-12 03:55:56,521] Trial 1 finished with value: 15852323.0 and parameters: {'vector_size': 438, 'window': 19, 'min_count': 10, 'negative': 17, 'alpha': 1.1064829172853278e-06, 'epochs': 32}. Best is trial 0 with value: 6754167.0.\n",
      "[I 2024-11-12 03:56:34,135] Trial 2 finished with value: 16926754.0 and parameters: {'vector_size': 207, 'window': 10, 'min_count': 20, 'negative': 12, 'alpha': 5.593268717005997e-06, 'epochs': 45}. Best is trial 0 with value: 6754167.0.\n",
      "[I 2024-11-12 03:56:52,942] Trial 3 finished with value: 5273335.5 and parameters: {'vector_size': 321, 'window': 18, 'min_count': 20, 'negative': 5, 'alpha': 0.02230317688048517, 'epochs': 27}. Best is trial 3 with value: 5273335.5.\n",
      "[I 2024-11-12 03:56:59,173] Trial 4 finished with value: 3328366.5 and parameters: {'vector_size': 261, 'window': 13, 'min_count': 16, 'negative': 6, 'alpha': 0.0003244117217481782, 'epochs': 7}. Best is trial 4 with value: 3328366.5.\n",
      "[I 2024-11-12 03:57:02,955] Trial 5 finished with value: 1255388.875 and parameters: {'vector_size': 281, 'window': 6, 'min_count': 9, 'negative': 13, 'alpha': 0.013274726637792474, 'epochs': 3}. Best is trial 5 with value: 1255388.875.\n",
      "[I 2024-11-12 03:57:34,028] Trial 6 finished with value: 5571986.0 and parameters: {'vector_size': 453, 'window': 13, 'min_count': 11, 'negative': 19, 'alpha': 0.010066841813813569, 'epochs': 17}. Best is trial 5 with value: 1255388.875.\n",
      "[I 2024-11-12 03:58:02,239] Trial 7 finished with value: 12626285.0 and parameters: {'vector_size': 282, 'window': 19, 'min_count': 16, 'negative': 7, 'alpha': 2.6961853929792904e-06, 'epochs': 36}. Best is trial 5 with value: 1255388.875.\n",
      "[I 2024-11-12 03:58:09,934] Trial 8 finished with value: 3564495.5 and parameters: {'vector_size': 236, 'window': 10, 'min_count': 5, 'negative': 3, 'alpha': 0.001091290711693336, 'epochs': 12}. Best is trial 5 with value: 1255388.875.\n",
      "[I 2024-11-12 03:58:21,568] Trial 9 finished with value: 5010622.5 and parameters: {'vector_size': 152, 'window': 19, 'min_count': 18, 'negative': 10, 'alpha': 0.010801333267912785, 'epochs': 18}. Best is trial 5 with value: 1255388.875.\n",
      "[I 2024-11-12 03:58:23,292] Trial 10 finished with value: 1215381.625 and parameters: {'vector_size': 338, 'window': 4, 'min_count': 7, 'negative': 15, 'alpha': 3.826047268479544e-05, 'epochs': 1}. Best is trial 10 with value: 1215381.625.\n",
      "[I 2024-11-12 03:58:25,038] Trial 11 finished with value: 1218458.125 and parameters: {'vector_size': 346, 'window': 4, 'min_count': 7, 'negative': 15, 'alpha': 2.4741912194932585e-05, 'epochs': 1}. Best is trial 10 with value: 1215381.625.\n",
      "[I 2024-11-12 03:58:28,034] Trial 12 finished with value: 2701421.75 and parameters: {'vector_size': 352, 'window': 3, 'min_count': 6, 'negative': 16, 'alpha': 2.964491703418463e-05, 'epochs': 2}. Best is trial 10 with value: 1215381.625.\n",
      "[I 2024-11-12 03:58:40,749] Trial 13 finished with value: 10169247.0 and parameters: {'vector_size': 381, 'window': 3, 'min_count': 8, 'negative': 15, 'alpha': 3.064255367978505e-05, 'epochs': 10}. Best is trial 10 with value: 1215381.625.\n",
      "[I 2024-11-12 03:59:07,619] Trial 14 finished with value: 12646355.0 and parameters: {'vector_size': 374, 'window': 6, 'min_count': 13, 'negative': 20, 'alpha': 4.0427810900351666e-05, 'epochs': 19}. Best is trial 10 with value: 1215381.625.\n",
      "[I 2024-11-12 03:59:14,227] Trial 15 finished with value: 4582441.0 and parameters: {'vector_size': 497, 'window': 6, 'min_count': 7, 'negative': 14, 'alpha': 0.00015137245425390943, 'epochs': 4}. Best is trial 10 with value: 1215381.625.\n",
      "[I 2024-11-12 04:00:18,730] Trial 16 finished with value: 21572164.0 and parameters: {'vector_size': 327, 'window': 8, 'min_count': 13, 'negative': 18, 'alpha': 1.0534680783023273e-05, 'epochs': 50}. Best is trial 10 with value: 1215381.625.\n",
      "[I 2024-11-12 04:00:28,920] Trial 17 finished with value: 7110614.5 and parameters: {'vector_size': 186, 'window': 4, 'min_count': 5, 'negative': 9, 'alpha': 0.00045409524432426526, 'epochs': 13}. Best is trial 10 with value: 1215381.625.\n",
      "[I 2024-11-12 04:00:35,623] Trial 18 finished with value: 3376852.0 and parameters: {'vector_size': 117, 'window': 8, 'min_count': 11, 'negative': 15, 'alpha': 0.002218722484664397, 'epochs': 8}. Best is trial 10 with value: 1215381.625.\n",
      "[I 2024-11-12 04:00:37,640] Trial 19 finished with value: 1456412.375 and parameters: {'vector_size': 394, 'window': 16, 'min_count': 8, 'negative': 17, 'alpha': 0.0001002416544028542, 'epochs': 1}. Best is trial 10 with value: 1215381.625.\n",
      "[I 2024-11-12 04:01:00,846] Trial 20 finished with value: 13701424.0 and parameters: {'vector_size': 321, 'window': 5, 'min_count': 7, 'negative': 13, 'alpha': 1.0570442473324902e-05, 'epochs': 21}. Best is trial 10 with value: 1215381.625.\n",
      "[I 2024-11-12 04:01:06,269] Trial 21 finished with value: 2407301.5 and parameters: {'vector_size': 283, 'window': 7, 'min_count': 9, 'negative': 13, 'alpha': 0.0021892989573359927, 'epochs': 5}. Best is trial 10 with value: 1215381.625.\n",
      "[I 2024-11-12 04:01:07,739] Trial 22 finished with value: 379394.625 and parameters: {'vector_size': 247, 'window': 5, 'min_count': 9, 'negative': 14, 'alpha': 0.08524445799769428, 'epochs': 1}. Best is trial 22 with value: 379394.625.\n",
      "[I 2024-11-12 04:01:21,001] Trial 23 finished with value: 11580064.0 and parameters: {'vector_size': 256, 'window': 4, 'min_count': 7, 'negative': 15, 'alpha': 8.634612564855759e-05, 'epochs': 13}. Best is trial 22 with value: 379394.625.\n",
      "[I 2024-11-12 04:01:22,493] Trial 24 finished with value: 1339926.25 and parameters: {'vector_size': 219, 'window': 8, 'min_count': 11, 'negative': 17, 'alpha': 1.2278559798610858e-05, 'epochs': 1}. Best is trial 22 with value: 379394.625.\n",
      "[I 2024-11-12 04:01:30,476] Trial 25 finished with value: 4810349.0 and parameters: {'vector_size': 348, 'window': 3, 'min_count': 9, 'negative': 9, 'alpha': 0.0006383129060333762, 'epochs': 9}. Best is trial 22 with value: 379394.625.\n",
      "[I 2024-11-12 04:01:37,760] Trial 26 finished with value: 5203643.5 and parameters: {'vector_size': 407, 'window': 5, 'min_count': 6, 'negative': 11, 'alpha': 0.0001858303041536973, 'epochs': 6}. Best is trial 22 with value: 379394.625.\n",
      "[I 2024-11-12 04:02:02,938] Trial 27 finished with value: 7729342.5 and parameters: {'vector_size': 305, 'window': 5, 'min_count': 8, 'negative': 14, 'alpha': 0.0039170689432588045, 'epochs': 23}. Best is trial 22 with value: 379394.625.\n",
      "[I 2024-11-12 04:02:22,823] Trial 28 finished with value: 4392329.0 and parameters: {'vector_size': 358, 'window': 9, 'min_count': 14, 'negative': 19, 'alpha': 0.0855866357866929, 'epochs': 15}. Best is trial 22 with value: 379394.625.\n",
      "[I 2024-11-12 04:03:06,684] Trial 29 finished with value: 9315595.0 and parameters: {'vector_size': 418, 'window': 12, 'min_count': 10, 'negative': 12, 'alpha': 0.08147246159535043, 'epochs': 41}. Best is trial 22 with value: 379394.625.\n",
      "[I 2024-11-12 04:03:52,869] Trial 30 finished with value: 14899960.0 and parameters: {'vector_size': 475, 'window': 15, 'min_count': 6, 'negative': 16, 'alpha': 5.323385913923291e-05, 'epochs': 27}. Best is trial 22 with value: 379394.625.\n",
      "[I 2024-11-12 04:03:56,324] Trial 31 finished with value: 1165420.875 and parameters: {'vector_size': 291, 'window': 6, 'min_count': 9, 'negative': 13, 'alpha': 0.03461739196446191, 'epochs': 3}. Best is trial 22 with value: 379394.625.\n",
      "[I 2024-11-12 04:04:01,366] Trial 32 finished with value: 1726127.625 and parameters: {'vector_size': 246, 'window': 4, 'min_count': 10, 'negative': 14, 'alpha': 0.043884948293893826, 'epochs': 5}. Best is trial 22 with value: 379394.625.\n",
      "[I 2024-11-12 04:04:10,753] Trial 33 finished with value: 2870949.5 and parameters: {'vector_size': 195, 'window': 7, 'min_count': 12, 'negative': 16, 'alpha': 0.040210065400987975, 'epochs': 9}. Best is trial 22 with value: 379394.625.\n",
      "[I 2024-11-12 04:04:12,225] Trial 34 finished with value: 981649.875 and parameters: {'vector_size': 301, 'window': 5, 'min_count': 8, 'negative': 12, 'alpha': 3.416709417681501e-06, 'epochs': 1}. Best is trial 22 with value: 379394.625.\n",
      "[I 2024-11-12 04:04:17,225] Trial 35 finished with value: 4620976.0 and parameters: {'vector_size': 291, 'window': 7, 'min_count': 9, 'negative': 11, 'alpha': 1.2870267794867648e-06, 'epochs': 5}. Best is trial 22 with value: 379394.625.\n",
      "[I 2024-11-12 04:04:48,676] Trial 36 finished with value: 15781665.0 and parameters: {'vector_size': 313, 'window': 6, 'min_count': 8, 'negative': 12, 'alpha': 3.3514403991235287e-06, 'epochs': 31}. Best is trial 22 with value: 379394.625.\n",
      "[I 2024-11-12 04:04:55,188] Trial 37 finished with value: 2382868.75 and parameters: {'vector_size': 269, 'window': 10, 'min_count': 10, 'negative': 10, 'alpha': 0.020134707203343375, 'epochs': 7}. Best is trial 22 with value: 379394.625.\n",
      "[I 2024-11-12 04:05:05,052] Trial 38 finished with value: 3913836.0 and parameters: {'vector_size': 230, 'window': 5, 'min_count': 12, 'negative': 13, 'alpha': 0.005951824819175666, 'epochs': 11}. Best is trial 22 with value: 379394.625.\n",
      "[I 2024-11-12 04:05:07,958] Trial 39 finished with value: 2665872.0 and parameters: {'vector_size': 167, 'window': 9, 'min_count': 5, 'negative': 10, 'alpha': 4.9940277854184735e-06, 'epochs': 3}. Best is trial 22 with value: 379394.625.\n",
      "[I 2024-11-12 04:05:20,576] Trial 40 finished with value: 8919054.0 and parameters: {'vector_size': 266, 'window': 11, 'min_count': 15, 'negative': 9, 'alpha': 2.1211178945396373e-06, 'epochs': 16}. Best is trial 22 with value: 379394.625.\n",
      "[I 2024-11-12 04:05:22,235] Trial 41 finished with value: 1140812.125 and parameters: {'vector_size': 332, 'window': 4, 'min_count': 7, 'negative': 14, 'alpha': 2.1745283383740366e-05, 'epochs': 1}. Best is trial 22 with value: 379394.625.\n",
      "[I 2024-11-12 04:05:25,824] Trial 42 finished with value: 3185507.25 and parameters: {'vector_size': 332, 'window': 3, 'min_count': 6, 'negative': 12, 'alpha': 6.902822192717605e-06, 'epochs': 3}. Best is trial 22 with value: 379394.625.\n",
      "[I 2024-11-12 04:05:27,314] Trial 43 finished with value: 1129569.75 and parameters: {'vector_size': 304, 'window': 5, 'min_count': 8, 'negative': 14, 'alpha': 1.702439441559746e-05, 'epochs': 1}. Best is trial 22 with value: 379394.625.\n",
      "[I 2024-11-12 04:05:35,090] Trial 44 finished with value: 2384710.75 and parameters: {'vector_size': 303, 'window': 5, 'min_count': 9, 'negative': 13, 'alpha': 0.025922159148043217, 'epochs': 7}. Best is trial 22 with value: 379394.625.\n",
      "[I 2024-11-12 04:05:39,761] Trial 45 finished with value: 4510632.0 and parameters: {'vector_size': 293, 'window': 6, 'min_count': 10, 'negative': 14, 'alpha': 2.1881927863792624e-05, 'epochs': 4}. Best is trial 22 with value: 379394.625.\n",
      "[I 2024-11-12 04:05:40,947] Trial 46 finished with value: 607348.5 and parameters: {'vector_size': 245, 'window': 4, 'min_count': 8, 'negative': 7, 'alpha': 1.7340763446436288e-06, 'epochs': 1}. Best is trial 22 with value: 379394.625.\n",
      "[I 2024-11-12 04:05:42,025] Trial 47 finished with value: 379568.3125 and parameters: {'vector_size': 220, 'window': 4, 'min_count': 8, 'negative': 4, 'alpha': 1.3497192814055303e-06, 'epochs': 1}. Best is trial 22 with value: 379394.625.\n",
      "[I 2024-11-12 04:05:46,333] Trial 48 finished with value: 2740430.75 and parameters: {'vector_size': 212, 'window': 3, 'min_count': 8, 'negative': 4, 'alpha': 1.4163855777672661e-06, 'epochs': 7}. Best is trial 22 with value: 379394.625.\n",
      "[I 2024-11-12 04:06:06,889] Trial 49 finished with value: 11935677.0 and parameters: {'vector_size': 235, 'window': 7, 'min_count': 19, 'negative': 6, 'alpha': 2.3370164148110106e-06, 'epochs': 34}. Best is trial 22 with value: 379394.625.\n"
     ]
    },
    {
     "name": "stdout",
     "output_type": "stream",
     "text": [
      "Best hyperparameters: {'vector_size': 247, 'window': 5, 'min_count': 9, 'negative': 14, 'alpha': 0.08524445799769428, 'epochs': 1}\n"
     ]
    }
   ],
   "source": [
    "import optuna\n",
    "from gensim.models import Word2Vec\n",
    "\n",
    "def objective(trial):\n",
    "    # Define hyperparameters to tune\n",
    "    vector_size = trial.suggest_int(\"vector_size\", 100, 500)\n",
    "    window = trial.suggest_int(\"window\", 3, 20)\n",
    "    min_count = trial.suggest_int(\"min_count\", 5, 20)\n",
    "    negative = trial.suggest_int(\"negative\", 3, 20)\n",
    "    alpha = trial.suggest_float(\"alpha\", 0.000001, 0.1, log=True)\n",
    "    epochs = trial.suggest_int(\"epochs\", 1, 50)\n",
    "\n",
    "    # Train Word2Vec model with suggested parameters\n",
    "    model = Word2Vec(\n",
    "        sentences=corpus,\n",
    "        vector_size=vector_size,\n",
    "        window=window,\n",
    "        min_count=min_count,\n",
    "        negative=negative,\n",
    "        alpha=alpha,\n",
    "        epochs=epochs,\n",
    "        workers=cores-1,\n",
    "        compute_loss=True,      \n",
    "    )\n",
    "\n",
    "    # Evaluate the model's performance, e.g., using validation set or loss\n",
    "    loss = model.get_latest_training_loss()\n",
    "    \n",
    "    return loss\n",
    "\n",
    "# Create an Optuna study and optimize the objective function\n",
    "study = optuna.create_study(direction=\"minimize\")\n",
    "study.optimize(objective, n_trials=50)\n",
    "\n",
    "# Print the best hyperparameters\n",
    "print(\"Best hyperparameters:\", study.best_params)"
   ]
  },
  {
   "cell_type": "code",
   "execution_count": 75,
   "id": "97c5f47d-2f14-4300-82c9-8553d66fcfe0",
   "metadata": {},
   "outputs": [
    {
     "name": "stdout",
     "output_type": "stream",
     "text": [
      "Loss after epoch 0: 383162.59375\n"
     ]
    },
    {
     "data": {
      "image/png": "[encoded data removed]",
      "text/plain": [
       "<Figure size 640x480 with 1 Axes>"
      ]
     },
     "metadata": {},
     "output_type": "display_data"
    }
   ],
   "source": [
    "from gensim.models.callbacks import CallbackAny2Vec\n",
    "import matplotlib.pyplot as plt\n",
    "import multiprocessing\n",
    "cores = multiprocessing.cpu_count() # Count the number of cores in a computer\n",
    "\n",
    "class LossLogger(CallbackAny2Vec):\n",
    "    '''Callback to log loss after each epoch.'''\n",
    "    def __init__(self):\n",
    "        self.epoch = 0\n",
    "        self.losses = []\n",
    "\n",
    "    def on_epoch_end(self, model):\n",
    "        loss = model.get_latest_training_loss()\n",
    "        self.losses.append(loss)\n",
    "        print(f\"Loss after epoch {self.epoch}: {loss}\")\n",
    "        self.epoch += 1\n",
    "\n",
    "# Instantiate the callback\n",
    "loss_logger = LossLogger()\n",
    "\n",
    "# Use the best hyperparameters from Optuna\n",
    "best_params = study.best_params\n",
    "\n",
    "# Train your Word2Vec model with the best hyperparameters\n",
    "final_model = Word2Vec(\n",
    "    sentences=corpus,\n",
    "    vector_size=best_params['vector_size'],\n",
    "    window=best_params['window'],\n",
    "    min_count=best_params['min_count'],\n",
    "    negative=best_params['negative'],\n",
    "    alpha=best_params['alpha'],\n",
    "    epochs=best_params['epochs'],\n",
    "    workers=cores-1,\n",
    "    compute_loss=True,\n",
    "    callbacks=[loss_logger]\n",
    ")\n",
    "\n",
    "\n",
    "\n",
    "# After training, plot the loss to observe convergence\n",
    "plt.plot(loss_logger.losses)\n",
    "plt.xlabel('Epoch')\n",
    "plt.ylabel('Training Loss')\n",
    "plt.title('Training Loss Over Epochs')\n",
    "plt.show()\n"
   ]
  },
  {
   "cell_type": "code",
   "execution_count": 82,
   "id": "d39aa977-9976-4c04-adb5-0acb0d1355be",
   "metadata": {},
   "outputs": [
    {
     "name": "stdout",
     "output_type": "stream",
     "text": [
      "['و', 'از', 'در', 'را', 'که', 'تو', 'به', 'آن', 'ز', 'ای', 'بر', 'این', 'من', 'او', 'چون', 'می', 'تا', 'چه', 'جان', 'است', 'هر', 'چو', 'دل', 'ما', 'كه', 'بی', 'گر', 'بود', 'با', 'شد', 'ِ', 'سر', 'خود', 'عشق', 'اندر', 'گفت', 'نه', 'هم', 'همه', 'نیست', 'باشد', 'دست', 'شود', 'ها', 'آمد', 'چشم', 'دو', 'سوی', 'آب', 'کن', 'اگر', 'پیش', 'روی', 'صد', 'مرا', 'جهان', 'یا', 'نی', 'حق', 'خوش', 'کند', 'رو', 'شب', 'همچو', 'پس', 'دم', 'هست', 'باز', 'خویش', 'عقل', 'ور', 'غم', 'گل', 'نور', 'روز', 'آید', 'آتش', 'یک', 'کز', 'بس', 'تن', 'دارد', 'زین', 'شمس', 'کی', 'جز', 'بهر', 'یار', 'چنین', 'جمله', 'باد', 'همی', 'وی', 'ره', 'مست', 'دیده', 'ست', 'خون', 'کو', 'خدا', 'كرد', 'دوست', 'دگر', 'راه', 'خانه', 'عالم', 'جا', 'کرد', 'هیچ', 'وز', 'گشت', 'مه', 'های', 'خاک', 'شاه', 'پر', 'عاشق', 'چرا', 'نظر', 'یك', 'شده', 'ماه', 'سخن', 'گوش', 'میان', 'نبود', 'گردد', 'کس', 'زان', 'لب', 'کار', 'نمی', 'گوید', 'چند', 'مر', 'پای', 'یکی', 'صورت', 'شیر', 'آخر', 'کان', 'زر', 'شکر', 'لطف', 'ام', 'پی', 'باده', 'كند', 'شه', 'هزار', 'شو', 'رفت', 'بین', 'كی', 'بحر', 'درد', 'خلق', 'داری', 'کنی', 'نباشد', 'زن', 'خواب', 'بیا', 'بار', 'کجا', 'پرده', 'کنم', 'دور', 'باغ', 'داد', 'روح', 'دین', 'كن', 'نفس', 'دید', 'مکن', 'دیگر', 'زمین', 'بوی', 'رخ', 'رود', 'گو', 'لا', 'گه', 'ده', 'آفتاب', 'گشته', 'چرخ', 'چنان', 'زیر', 'هین', 'کسی', 'خورشید', 'آسمان', 'الله', 'بد', 'تبریز', 'زمان', 'مرد', 'ار', 'بگو', 'دلم', 'نقش', 'اين', 'بدان', 'برون', 'ساقی', 'عجب', 'پنهان', 'وقت', 'ندارد', 'جو', 'باش', 'گرد', 'جام', 'سنگ', 'گفتم', 'راست', 'آنک', 'تویی', 'روان', 'توست', 'پا', 'دریا', 'حال', 'نهان', 'خبر', 'مرغ', 'دار', 'دارم', 'دهد', 'بنده', 'مگر', 'زبان', 'صبر', 'دام', 'ماند', 'لیك', 'نشان', 'خیال', 'كاو', 'دهان', 'زند', 'خر', 'غیر', 'سعدی', 'شوی', 'عاشقان', 'سو', 'جای', 'برد', 'هزاران', 'دان', 'چیست', 'فی', 'نام', 'اوست', 'خواجه', 'خار', 'یكی', 'حسن', 'برای', 'حافظ', 'شمع', 'بانگ', 'خواهی', 'رسد', 'تر', 'ایشان', 'فلک', 'عمر', 'بسته', 'همچون', 'کف', 'بعد', 'رنگ', 'زد', 'بینی', 'موسی', 'مستی', 'کم', 'اهل', 'زنده', 'شدی', 'زهی', 'سلطان', 'كز', 'رسید', 'کرده', 'روزی', 'شهر', 'آرد', 'ذره', 'شما', 'نيست', 'شراب', 'درون', 'سایه', 'دولت', 'امروز', 'سرو', 'اند', 'زلف', 'كار', 'كان', 'شدم', 'کردم', 'بند', 'باید', 'نو', 'بیرون', 'نیم', 'بنگر', 'وان', 'نان', 'داند', 'یاد', 'ببین', 'پُر', 'گنج', 'گویم', 'مرده', 'تبریزی', 'گیر', 'بودی', 'ملک', 'شیرین', 'اصل', 'گاه', 'مرگ', 'معنی', 'یوسف', 'دانی', 'منم', 'كم', 'جمال', 'وین', 'دمی', 'نماند', 'حلقه', 'توبه', 'خواهد', 'مهر', 'پیر', 'گوهر', 'کاین', 'برو', 'وفا', 'کردی', 'خورد', 'گویی', 'سخت', 'علم', 'نگر', 'بخت', 'اول', 'آنكه', 'بو', 'بیند', 'جانی', 'ولی', 'اندیشه', 'سحر', 'باشی', 'وگر', 'لعل', 'ماست', 'ترک', 'رنج', 'گرفت', 'نیز', 'كرده', 'هوا', 'سینه', 'رحمت', 'پیدا', 'خمش', 'رب', 'زود', 'پری', 'غیب', 'طلب', 'دانه', 'زخم', 'ابر', 'بهار', 'وصل', 'یقین', 'هستی', 'جوی', 'گفتن', 'چونكه', 'شاد', 'مستان', 'بده', 'دلی', 'اش', 'صاحب', 'خاك', 'خم', 'شاخ', 'سه', 'كو', 'زآن', 'شادی', 'چونک', 'بیان', 'بستان', 'آورد', 'كس', 'الا', 'قدر', 'چنگ', 'دوش', 'مگو', 'ماهی', 'حیات', 'بام', 'خشم', 'روشن', 'اسرار', 'آه', 'يا', 'یافت', 'دیدی', 'راز', 'دیو', 'دانم', 'خوب', 'تیر', 'الدین', 'چاره', 'زار', 'سفر', 'بسی', 'جانب', 'فتنه', 'درخت', 'بدین', 'دیدم', 'باشم', 'کوی', 'سگ', 'جسم', 'غلام', 'كردن', 'خرد', 'لحظه', 'وجود', 'عهد', 'شوم', 'فراق', 'کنند', 'چشمه', 'سود', 'باری', 'مثال', 'بلا', 'پاره', 'دامن', 'سیر', 'بالا', 'زیرا', 'خوان', 'مردم', 'دشمن', 'باقی', 'عدم', 'برگ', 'صبح', 'گمان', 'عین', 'نماید', 'زانكه', 'طمع', 'جامه', 'خمار', 'عیسی', 'قضا', 'آدم', 'دعا', 'ناله', 'آدمی', 'چمن', 'بلبل', 'جفا', 'گردون', 'هله', 'لیک', 'صبا', 'هوش', 'قد', 'یابد', 'گرم', 'آری', 'کرم', 'كاین', 'بُد', 'ناز', 'امر', 'پسر', 'گردن', 'تیغ', 'گفتی', 'جمع', 'مجلس', 'آینه', 'دلبر', 'شرح', 'روم', 'گیرد', 'کوه', 'خدمت', 'مثل', 'خندان', 'ایمان', 'دود', 'زنان', 'منی', 'سبب', 'شدن', 'حرص', 'عاقبت', 'سلیمان', 'خویشتن', 'نشد', 'ذوق', 'میرود', 'پاک', 'زهر', 'کش', 'هرگز', 'طرف', 'خنده', 'مار', 'زانک', 'تنگ', 'گوی', 'کنار', 'کشد', 'شیخ', 'خفته', 'فنا', 'زهره', 'گران', 'گلستان', 'موج', 'بشنو', 'گم', 'ترش', 'بجز', 'آنچه', 'جواب', 'رها', 'نهد', 'خواهم', 'بَد', 'آمده', 'طرب', 'جنگ', 'جانم', 'جدا', 'کردن', 'ظاهر', 'مجنون', 'كسی', 'نار', 'ایم', 'خور', 'کیست', 'سجده', 'خراب', 'سیه', 'رقص', 'گفته', 'قدح', 'رخت', 'زنی', 'مرو', 'گشتی', 'دراز', 'بت', 'قمر', 'وار', 'خوی', 'توام', 'قرار', 'صفا', 'کل', 'عیش', 'ببینی', 'پشت', 'حد', 'كنی', 'قدم', 'مشک', 'همان', 'ابد', 'چراغ', 'دریای', 'قصه', 'صفت', 'پيش', 'شور', 'تازه', 'مال', 'بزن', 'بیش', 'نکند', 'حیوان', 'نمود', 'مطرب', 'يار', 'آمدی', 'سوز', 'لاله', 'قوم', 'حدیث', 'دی', 'هوای', 'آ', 'جگر', 'سلام', 'امید', 'خامش', 'بیار', 'خاموش', 'نفسی', 'نیک', 'رفته', 'صوفی', 'خوار', 'گفتا', 'زو', 'علی', 'فضل', 'گاو', 'جنس', 'کمان', 'خوبی', 'گهی', 'آواز', 'دهی', 'دوستان', 'شش', 'معشوق', 'كردی', 'پدر', 'یاری', 'آبی', 'خام', 'سال', 'خو', 'آتشی', 'دنیا', 'طبع', 'خوبان', 'نماز', 'سری', 'مراد', 'چیزی', 'گلزار', 'گلشن', 'همچنین', 'نگردد', 'حس', 'گوشه', 'گور', 'ان', 'نهاد', 'خصم', 'دزد', 'شدند', 'زشت', 'جهد', 'تمام', 'چگونه', 'امشب', 'بازار', 'وصال', 'امتحان', 'تلخ', 'الحق', 'افتاد', 'عیان', 'جوش', 'ریش', 'رسول', 'نقد', 'ساغر', 'نداند', 'كنم', 'طالب', 'هفت', 'آهن', 'صید', 'نیك', 'گرفته', 'حرف', 'نتوان', 'بری', 'مغز', 'تشنه', 'جور', 'کنون', 'دلا', 'زندان', 'كجا', 'كور', 'پاك', 'قصد', 'میوه', 'چاه', 'قهر', 'خسته', 'خیره', 'پدید', 'هوس', 'كای', 'آنچ', 'سماع', 'قطره', 'جست', 'حیران', 'بماند', 'خاص', 'نوش', 'بدو', 'خرقه', 'پایان', 'دیوانه', 'قیامت', 'خیر', 'شرم', 'کشتی', 'مادر', 'مشو', 'ساز', 'اسب', 'جانان', 'خشک', 'زآنكه', 'نعره', 'شكر', 'بسیار', 'جهت', 'دوزخ', 'بگویم', 'شدست', 'عاشقی', 'بیم', 'نرگس', 'میدان', 'گردی', 'طفل', 'شبی', 'سودای', 'تنها', 'بوده', 'خاطر', 'خدای', 'چندان', 'کاندر', 'چهره', 'گشتم', 'آيد', 'افتد', 'فرعون', 'بودم', 'عید', 'ملك', 'فهم', 'ترا', 'اثر', 'يک', 'صحرا', 'بوسه', 'غمزه', 'حاجت', 'آنجا', 'خلوت', 'مهمان', 'تاب', 'اقبال', 'فرمان', 'برآمد', 'خواند', 'سودا', 'علیه', 'بست', 'بگوید', 'ندارم', 'مانده', 'حسد', 'منزل', 'خوشتر', 'ننگ', 'میكند', 'قند', 'سرم', 'اختیار', 'گهر', 'هيچ', 'اینجا', 'یاران', 'چونی', 'چیز', 'قوت', 'زنم', 'وهم', 'قبله', 'زرد', 'پند', 'شیوه', 'میر', 'بهشت', 'بُدی', 'فردا', 'مو', 'نگار', 'هجر', 'لطیف', 'عصا', 'عشاق', 'میکند', 'زیان', 'ببرد', 'السلام', 'روزه', 'هان', 'بازی', 'كش', 'بال', 'کام', 'وصف', 'مصطفی', 'خط', 'شکار', 'داده', 'پوست', 'دفع', 'ایمن', 'ناید', 'داشت', 'حجاب', 'آیی', 'فلان', 'نهی', 'حیله', 'بزم', 'عیب', 'فن', 'فر', 'درآ', 'گردان', 'اشتر', 'توان', 'موی', 'میشود', 'کمر', 'رحم', 'گفتار', 'مكر', 'روا', 'بدید', 'مانند', 'فارغ', 'امان', 'دانش', 'مزن', 'مده', 'جهانی', 'هنر', 'نبودی', 'خواه', 'نقل', 'میل', 'عام', 'جفت', 'ویران', 'سرد', 'رفتن', 'بخش', 'زمانی', 'غیرت', 'ندانم', 'گردم', 'خیز', 'فانی', 'مقام', 'زاری', 'خوف', 'گریه', 'نداری', 'جوان', 'یعنی', 'گرگ', 'گذر', 'سیاه', 'اکنون', 'زده', 'صحبت', 'افزون', 'صنم', 'همچنان', 'گرو', 'شاهد', 'بگذار', 'روزن', 'والله', 'کجاست', 'فعل', 'مشتری', 'لاجرم', 'تاج', 'تیره', 'چندین', 'وا', 'یزدان', 'بگیر', 'ديده', 'كف', 'بنه', 'درآمد', 'پروانه', 'لقمه', 'انبیا', 'عرش', 'اجل', 'دلش', 'خرمن', 'تیز', 'شهوت', 'تخت', 'نعمت', 'فقر', 'جزو', 'کشی', 'ورا', 'مكن', 'صدر', 'بدی', 'خويش', 'مسجد', 'كوه', 'سازد', 'بقا', 'فتاد', 'بیدار', 'پست', 'کاری', 'مرغان', 'صدق', 'سرمست', 'آر', 'اشک', 'کای', 'دعوی', 'کفر', 'خورده', 'فغان', 'عاقل', 'شیشه', 'چنين', 'لاف', 'بلی', 'ظلمت', 'کشته', 'نشود', 'بهتر', 'بشر', 'برق', 'بگفت', 'حقیقت', 'حلوا', 'دلت', 'سیم', 'عذر', 'رشک', 'گفتند', 'خوشی', 'محو', 'آبِ', 'نیاید', 'قلم', 'جنت', 'خموش', 'منه', 'قصۀ', 'شوق', 'قلب', 'صاف', 'پنج', 'نیستی', 'عكس', 'زفت', 'خاصه', 'حاصل', 'حریف', 'خطا', 'اسیر', 'دلدار', 'بدن', 'رفتی', 'نامه', 'عشقت', 'مردان', 'آیینه', 'آمدند', 'کنیم', 'مات', 'حکم', 'ولیکن', 'آنچنان', 'مردی', 'كنند', 'باران', 'شر', 'شوند', 'چار', 'گشاد', 'دیدن', 'ادب', 'نثار', 'امیر', 'غلط', 'جرم', 'سبزه', 'محرم', 'برده', 'عشقش', 'طبل', 'جهل', 'دری', 'بگشا', 'نبیند', 'كاندر', 'شنید', 'سبز', 'غرقه', 'غصه', 'ندید', 'صف', 'مومن', 'بنشین', 'دوا', 'هجران', 'نبرد', 'نزد', 'بلند', 'سیل', 'یابی', 'دندان', 'هاست', 'ترس', 'مدد', 'طریق', 'خالی', 'خرابات', 'گذشت', 'خزان', 'نیاز', 'آفتابی', 'دادی', 'نرود', 'رای', 'هو', 'برادر', 'اما', 'عشرت', 'جانش', 'سعادت', 'کنان', 'نخواهم', 'كردم', 'بدانی', 'سپر', 'افتاده', 'ات', 'غمت', 'نکته', 'غافل', 'مباش', 'همت', 'رنجور', 'قبول', 'مصر', 'گِل', 'صافی', 'بالای', 'ملامت', 'حكم', 'ببر', 'ولیک', 'طوطی', 'احمد', 'سبو', 'جوید', 'نکنی', 'كژ', 'درویش', 'خضر', 'برگو', 'سرخ', 'پخته', 'تار', 'بیمار', 'بادا', 'لایق', 'دیوار', 'زاده', 'فرق', 'زدی', 'آغاز', 'حلق', 'نظری', 'خوری', 'بجو', 'پیغمبر', 'بلكه', 'صلاح', 'شعله', 'ببیند', 'میزند', 'حلال', 'آمدم', 'گویند', 'منگر', 'مدار', 'برآید', 'چشمم', 'سرش', 'برم', 'جانت', 'قاضی', 'ساعتی', 'درمان', 'نوبت', 'سست', 'ازل', 'مسکین', 'جانا', 'نهاده', 'مجو', 'برفت', 'مستم', 'سِرّ', 'زاد', 'سلامت', 'سوسن', 'ضمیر', 'دهم', 'برود', 'فاش', 'آنگه', 'نخواهد', 'قبا', 'ساعت', 'خیالی', 'روشنی', 'مژده', 'جود', 'رهی', 'دوستی', 'عدو', 'نشانی', 'ُگل', 'نشسته', 'دیدار', 'نوح', 'ترك', 'حشر', 'ناگهان', 'كرم', 'گناه', 'کعبه', 'خدایی', 'همین', 'شهد', 'وحی', 'شنو', 'كشید', 'اصحاب', 'بکن', 'روزگار', 'وای', 'حضرت', 'آورده', 'ذات', 'پناه', 'سان', 'گوئی', 'فزون', 'ُكن', 'فرو', 'گره', 'وعده', 'غریب', 'قعر', 'نبی', 'نرسد', 'کاسه', 'بینم', 'مایی', 'هنوز', 'غزل', 'مگیر', 'زاهد', 'شيرين', 'چین', 'ميان', 'سوخته', 'بسا', 'میدهد', 'احسان', 'عکس', 'اختر', 'شرط', 'ابروی', 'عزم', 'غرق', 'باطن', 'حسرت', 'دستان', 'نوا', 'رست', 'شاهی', 'ظلم', 'عزیز', 'داغ', 'رسن', 'فسون', 'لذت', 'احوال', 'ایا', 'خداوند', 'دادن', 'ترسم', 'ساقیا', 'علت', 'خاری', 'جرعه', 'كشتی', 'تهی', 'واقف', 'مکر', 'گیرم', 'ناگه', 'زمانه', 'شمار', 'کمال', 'سعديا', 'بیگانه', 'ضد', 'فکر', 'بهانه', 'گاهی', 'گیری', 'حور', 'بُرد', 'زبر', 'حكایت', 'نوری', 'حمله', 'معانی', 'دهن', 'دستی', 'فریاد', 'رویم', 'مفخر', 'مگس', 'گلی', 'کنید', 'خشك', 'عدل', 'اكنون', 'صفات', 'بخشد', 'گدا', 'نسیم', 'ذکر', 'دستار', 'قول', 'مرغی', 'شاهان', 'جویی', 'وطن', 'زاغ', 'نگنجد', 'کدام', 'خلیل', 'پرتو', 'بدر', 'غبار', 'جاه', 'عمل', 'پرست', 'نبینی', 'لم', 'زنهار', 'سبک', 'مبین', 'بگذر', 'کور', 'دستم', 'گندم', 'خری', 'طره', 'لیکن', 'خانۀ', 'نشست', 'عطا', 'درآید', 'سوار', 'هی', 'خسرو', 'لابه', 'هنگام', 'انداخت', 'برج', 'دکان', 'خاکی', 'دریغ', 'چشمش', 'منتظر', 'قال', 'جامی', 'خوردن', 'نگه', 'محبت', 'خرم', 'شیران', 'جنون', 'وقتِ', 'جلوه', 'خلاف', 'حبس', 'چوگان', 'وام', 'فدای', 'گنه', 'پیل', 'فكر', 'رفتم', 'ندانی', 'شعر', 'دردی', 'بوستان', 'انا', 'غار', 'بندگی', 'لیلی', 'عشوه', 'سما', 'برهنه', 'هذا', 'قربان', 'گونه', 'مکان', 'پنجه', 'روید', 'اندرون', 'رویت', 'قرین', 'همیشه', 'اله', 'شتاب', 'بصر', 'زبون', 'کافر', 'دیگران', 'مایه', 'شام', 'منت', 'چشمی', 'ماجرا', 'فقیر', 'کژ', 'خنک', 'آمدن', 'تلخی', 'دلیل', 'کمند', 'قاف', 'آرام', 'خلقان', 'حذر', 'شکسته', 'نبات', 'زندگی', 'بخوان', 'لشکر', 'لقا', 'هلا', 'حرام', 'اژدها', 'رسته', 'غنچه', 'تدبیر', 'بیخ', 'بیابان', 'دروغ', 'دف', 'دارند', 'دعای', 'صور', 'نشین', 'دیگ', 'تخم', 'طبیب', 'زندگانی', 'رسم', 'اشارت', 'بسوزد', 'صورتی', 'درست', 'عنایت', 'بن', 'تند', 'بداند', 'سلسله', 'قامت', 'کر', 'شویم', 'انتظار', 'دلق', 'نهانی', 'نای', 'پیشه', 'پاسبان', 'افسانه', 'آگه', 'کشان', 'شیطان', 'خداست', 'پیشش', 'ذو', 'زاید', 'العشق', 'بتان', 'گفتش', 'اجزای', 'حکایت', 'سجود', 'نشاید', 'ربود', 'مقصود', 'ذكر', 'عالمی', 'دلان', 'مریم', 'شیری', 'کون', 'ریگ', 'دِه', 'نر', 'بدیدم', 'مخمور', 'جنبش', 'گشاید', 'ظن', 'دماغ', 'باب', 'پهلوی', 'مطلق', 'بیشه', 'میگفت', 'زنجیر', 'تنم', 'رخسار', 'خويشتن', 'مبر', 'لوح', 'چوب', 'نطق', 'فخر', 'راند', 'رزق', 'سرا', 'ستاره', 'عرض', 'خدایا', 'ندا', 'عود', 'غالب', 'زدن', 'ابلیس', 'عارف', 'دستِ', 'آرم', 'پریشان', 'دوان', 'خلعت', 'دیر', 'بگرفت', 'پادشاه', 'بهل', 'بدیدی', 'رضا', 'مپرس', 'چپ', 'موش', 'گردش', 'خال', 'پوشیده', 'درم', 'کوری', 'نکرد', 'حالت', 'فرد', 'وآن', 'چشمت', 'ملول', 'نسبت', 'حكمت', 'دشت', 'طوفان', 'انداز', 'نیستم', 'ساخت', 'نما', 'گریان', 'زیبا', 'كشد', 'میبرد', 'خواری', 'شمشیر', 'رگ', 'میرسد', 'قدرت', 'خطر', 'فرمود', 'پستی', 'آنم', 'آشنا', 'نظاره', 'مبارک', 'كل', 'قالب', 'خلاص', 'شخص', 'الی', 'تابش', 'باطل', 'طور', 'عشقی', 'صلا', 'شتر', 'برآرد', 'ديگر', 'آزاد', 'آنست', 'پوش', 'آور', 'توانی', 'آهو', 'سمن', 'نکنم', 'خمر', 'بدم', 'نوحه', 'رویش', 'بیچاره', 'آثار', 'دلبری', 'کشید', 'نادر', 'چونکه', 'استاد', 'سگان', 'گربه', 'صلح', 'كین', 'كفر', 'ساده', 'پَر', 'مور', 'مقیم', 'تک', 'داریم', 'بکش', 'مردن', 'گشاده', 'آگاه', 'بگیرد', 'طرفه', 'صنما', 'رقصان', 'منکر', 'ورای', 'نک', 'نعم', 'زهد', 'مسلمانان', 'بردی', 'اینک', 'شکست', 'مس', 'ایاز', 'حالی', 'رونق', 'رندان', 'تواند', 'مخور', 'آفاق', 'محمد', 'بایستی', 'زور', 'پیشت', 'خوردی', 'پنهانی', 'ایام', 'حاضر', 'شست', 'مبادا', 'دفتر', 'طاقت', 'کوزه', 'غرض', 'برهان', 'حیرت', 'دوری', 'بهاری', 'شکل', 'گويی', 'فراز', 'بنما', 'جایی', 'عوض', 'عیار', 'انوار', 'روغن', 'بگفتم', 'نیكو', 'خواست', 'حریفان', 'قفل', 'عنبر', 'حديث', 'بل', 'کشم', 'پیغام', 'غفلت', 'گله', 'برخیز', 'بشد', 'خجل', 'عقلی', 'مباد', 'كیست', 'کهنه', 'كردند', 'نهم', 'گلو', 'بودن', 'کبر', 'رسی', 'مانی', 'روحی', 'خوشست', 'ندهد', 'نردبان', 'عفو', 'طواف', 'ابرو', 'فلك', 'هیزم', 'سوگند', 'صدف', 'دكان', 'دزدی', 'شان', 'بیخودی', 'طاق', 'تعالی', 'تابان', 'وفای', 'اطلس', 'روش', 'هلال', 'قصر', 'سلطانی', 'عرضه', 'بگذرد', 'یعقوب', 'تماشا', 'پیوسته', 'زرین', 'کجایی', 'بیداری', 'بامداد', 'نقاب', 'آرزوست', 'پادشاهی', 'چنانک', 'دعوت', 'چرایی', 'بیابد', 'لبش', 'شهان', 'لرزان', 'نقشی', 'بندگان', 'اولیا', 'مرید', 'ندیدم', 'گریخت', 'الست', 'رسیده', 'گام', 'عن', 'میخانه', 'ریخت', 'اميد', 'اندک', 'گوهری', 'پیچ', 'پرد', 'گرفتار', 'شبان', 'قرآن', 'اندك', 'آی', 'تجلی', 'عسل', 'صوفیان', 'صادق', 'عار', 'دوران', 'طاعت', 'گواهی', 'درده', 'شرابی', 'گواه', 'بها', 'آمدست', 'شربت', 'افندی', 'امین', 'لامکان', 'بیخود', 'مشتاق', 'بندۀ', 'آمیخته', 'همره', 'خیزد', 'عرب', 'قرص', 'نگویم', 'هشیار', 'رستم', 'بشکن', 'جفای', 'خنجر', 'نگیرد', 'ی', 'جوهر', 'فرشته', 'مشرق', 'دشمنان', 'سرمه', 'بخور', 'بیاید', 'توئی', 'نشاط', 'کله', 'نك', 'استخوان', 'ضیا', 'بیابی', 'آهوی', 'مونس', 'حیلت', 'روحانی', 'نداشت', 'شاید', 'گنجد', 'راحت', 'ارزد', 'انگشت', 'غمش', 'آنی', 'زحمت', 'بگذشت', 'اسباب', 'گیرند', 'جاست', 'فتد', 'گریز', 'زنند', 'دانا', 'توی', 'کشت', 'بربند', 'کردند', 'خورم', 'صبوح', 'برجه', 'منست', 'بادی', 'شرق', 'گزین', 'مشکل', 'سرت', 'همدگر', 'میكنی', 'ببند', 'ببست', 'طالع', 'دایه', 'دهل', 'شهری', 'مذهب', 'آیم', 'سهل', 'رطل', 'تير', 'سیب', 'نگون', 'بکند', 'داروی', 'هستم', 'بگشاد', 'ناموس', 'دانند', 'مسلمان', 'برآ', 'عالی', 'کمتر', 'خطاب', 'ریز', 'ياد', 'ستم', 'بینا', 'شهره', 'رسوا', 'نروم', 'میروی', 'خالق', 'مصلحت', 'خس', 'سبق', 'معدن', 'افسون', 'لاغر', 'میانه', 'شحنه', 'میکنی', 'مدام', 'شجر', 'دهند', 'کاه', 'نیابد', 'آسان', 'رخش', 'خیمه', 'سالها', 'شدیم', 'شكست', 'پیری', 'ریحان', 'فوق', 'سنگی', 'سزای', 'شکم', 'رفیق', 'وين', 'کمین', 'رویی', 'انت', 'خاكی', 'عقیق', 'برخاست', 'گوشت', 'تری', 'حلم', 'قفص', 'خویشی', 'پیمانه', 'محنت', 'سرّ', 'رد', 'گشتند', 'شهی', 'ابله', 'دستش', 'عاجز', 'مرهم', 'دغل', 'شكار', 'پشه', 'شعاع', 'شکن', 'آفت', 'لبت', 'رهد', 'فتی', 'خلد', 'بندی', 'ویرانه', 'سرگین', 'یوسفی', 'بسوخت', 'دغا', 'قیاس', 'گشا', 'بیت', 'اختران', 'یاوه', 'نيز', 'صنع', 'همگی', 'پایی', 'خرابی', 'بلای', 'زدند', 'برآرم', 'علیک', 'استاره', 'کوته', 'احد', 'آهسته', 'بدين', 'درس', 'علف', 'آفرین', 'حضور', 'نسرین', 'مسیح', 'گری', 'بردار', 'روبه', 'وَ', 'سپس', 'عنان', 'ُكند', 'دون', 'فرزند', 'كافر', 'زنیم', 'خران', 'اوفتاد', 'عظیم', 'داود', 'اقرار', 'چادر', 'الهوی', 'انگور', 'نیش', 'انبان', 'نرم', 'صحت', 'قفس', 'نمودی', 'جذب', 'تسبیح', 'میكرد', 'خيال', 'برتر', 'برسد', 'فکرت', 'فرود', 'جیب', 'افغان', 'ران', 'ماییم', 'كجاست', 'درختی', 'دانست', 'كنون', 'آلوده', 'ساکن', 'خندد', 'گریزی', 'وزیر', 'گرمی', 'گرفتم', 'گریزد', 'سرکه', 'آسیا', 'درویشان', 'دیدۀ', 'زنگ', 'دیگری', 'خرامان', 'الف', 'کردیم', 'نمایی', 'سوخت', 'بتر', 'كودكان', 'طرفی', 'برف', 'سقف', 'نیابی', 'كمال', 'سرگشته', 'طبق', 'خوانی', 'پیشتر', 'فریبی', 'حجت', 'قومی', 'درکش', 'بروید', 'بايد', 'بَر', 'رام', 'نصیحت', 'جملۀ', 'پران', 'گفتِ', 'ایثار', 'روند', 'مُرده', 'منصور', 'بیست', 'جمالت', 'آیند', 'محتاج', 'موم', 'مرکب', 'گروه', 'ديدار', 'عدد', 'ایست', 'بستم', 'دربند', 'انکار', 'کاين', 'نیکو', 'قراری', 'ساله', 'وقتی', 'سپاه', 'مترس', 'مستانه', 'فتح', 'دیوان', 'باور', 'آموخت', 'مهره', 'ارواح', 'منظر', 'جستن', 'حیاتی', 'بحث', 'نفی', 'خامی', 'عربده', 'نامش', 'خوشم', 'سحری', 'جبرئیل', 'تست', 'سیلی', 'بزد', 'نگویی', 'مدح', 'انسان', 'حوض', 'یوم', 'گرت', 'قدیم', 'برید', 'آرزو', 'تخته', 'درآیی', 'نامی', 'قافله', 'جوع', 'بگشاید', 'شمعی', 'بباید', 'بودند', 'کیسه', 'جزوی', 'مردِ', 'نکردی', 'انبار', 'بگردان', 'گفتمش', 'دستت', 'میکده', 'هدیه', 'رشته', 'وانگه', 'قلبی', 'آهنگ', 'مان', 'جوانی', 'لحد', 'دیار', 'باره', 'فرش', 'نادیده', 'روضه', 'آستان', 'دایم', 'اعلم', 'سقا', 'واپس', 'كوری', 'امن', 'دادم', 'دوید', 'حرم', 'سرای', 'مشعله', 'آرند', 'بخشش', 'نوبهار', 'زآنکه', 'سوزد', 'مکش', 'بندد', 'منكر', 'نقصان', 'آویخته', 'گنبد', 'لی', 'حکمت', 'کوفته', 'آستین', 'ً', 'ماهیان', 'ُكه', 'اشك', 'بویی', 'بنفشه', 'گزاف', 'شاهِ', 'بازآید', 'بنمود', 'درگاه', 'درختان', 'آواره', 'دختر', 'قوی', 'مشغول', 'شرر', 'مانع', 'صدا', 'حیوانی', 'عذاب', 'صنعت', 'زخمه', 'کاروان', 'دگربار', 'بگفتی', 'لیس', 'طعنه', 'پیاده', 'كسب', 'خونم', 'خوردم', 'نیامد', 'نعل', 'اوصاف', 'جاء', 'نبری', 'پار', 'مدعی', 'فروغ', 'گويند', 'خسان', 'ورد', 'گويم', 'حقایق', 'عزت', 'شنیدم', 'همنشین', 'فربه', 'گبر', 'دریغا', 'بدهد', 'نشنود', 'بنماید', 'جانها', 'راهِ', 'محال', 'بوَد', 'كر', 'شانه', 'دوم', 'فزود', 'زدم', 'لشكر', 'كودك', 'ناری', 'کنج', 'لله', 'تنی', 'رغم', 'آسمانی', 'ندیدی', 'جاودان', 'برهم', 'يکی', 'بردن', 'نخواهی', 'عاقلان', 'میکنم', 'قارون', 'خبری', 'سوزن', 'خماری', 'سنبل', 'مجال', 'ستان', 'دامی', 'یافتم', 'تيغ', 'لک', 'وليکن', 'خیالش', 'بیامد', 'محروم', 'دوغ', 'بکشد', 'پنداری', 'تازی', 'مفتاح', 'بستی', 'محمود', 'قانع', 'جبر', 'اندیش', 'بریده', 'آتشین', 'مخسب', 'لعین', 'آنکه', 'لنگ', 'نفاق', 'اولی', 'قسمت', 'گرفتی', 'بردم', 'نورش', 'زعفران', 'گنده', 'خسی', 'جزا', 'شهریار', 'بیماری', 'سوراخ', 'كهن', 'زوتر', 'رفتند', 'لوت', 'كریم', 'کفن', 'خَود', 'شمشير', 'حمل', 'ببینم', 'مردمان', 'جویان', 'عشقم', 'نکو', 'رويت', 'انس', 'بشنود', 'جنان', 'مردار', 'کلی', 'میشد', 'یارم', 'بشکست', 'بیشتر', 'آگهی', 'آمدیم', 'پیمبر', 'سایۀ', 'دلداری', 'افکند', 'یمن', 'سازی', 'آشتی', 'شوید', 'حسود', 'نقاش', 'مهربان', 'غمگین', 'نگوید', 'نرفت', 'گدایی', 'پشیمانی', 'عجز', 'ناخوش', 'محتسب', 'چاکر', 'شکری', 'فرج', 'اوج', 'الصلا', 'یافتی', 'هلاک', 'نمک', 'جوال', 'خرج', 'فدا', 'خوابی', 'همراه', 'انصاف', 'خونی', 'بشنوی', 'غمی', 'واجب', 'بدیده', 'زنگی', 'پوستین', 'شرف', 'گدای', 'برآيد', 'میزد', 'اندرآ', 'زلفت', 'تاری', 'صیاد', 'هوی', 'دُرّ', 'قفا', 'خداوندی', 'شوخ', 'باغبان', 'گِرد', 'بودیم', 'نیارد', 'شکوفه', 'پرخون', 'بگوی', 'وحدت', 'غماز', 'عتاب', 'فصل', 'بداد', 'شنود', 'منور', 'قاصد', 'نادره', 'نگشتی', 'کلاه', 'پنبه', 'واسطه', 'مردانه', 'اغیار', 'میآيد', 'رندی', 'دزدیده', 'خاست', 'رواست', 'رستی', 'عدوی', 'معرفت', 'شك', 'عنقا', 'رومی', 'فروش', 'میزنی', 'نیل', 'آنها', 'همدم', 'جانست', 'بودش', 'نوای', 'سروری', 'کران', 'شوره', 'حل', 'خاره', 'طفلی', 'بپرس', 'بسوز', 'بخورد', 'غوره', 'لقمان', 'گویان', 'تافت', 'هندو', 'بارها', 'بخواهد', 'گریبان', 'اذا', 'جویم', 'خرگوش', 'مسلم', 'ارزان', 'فزا', 'گنجی', 'سازم', 'میی', 'سوزان', 'باشیم', 'شکاری', 'خیالت', 'شنیدی', 'غوغا', 'خواره', 'پشیمان', 'کباب', 'بخشی', 'مدتی', 'افكند', 'عروس', 'ملال', 'فردوس', 'مفلس', 'سخره', 'خاكِ', 'ریا', 'شناسد', 'رساند', 'تعلیم', 'میزان', 'سپید', 'بزند', 'بانگِ', 'استیزه', 'سخنی', 'هندوی', 'الهی', 'جُست', 'گرمابه', 'پاکی', 'قیمت', 'آلت', 'زير', 'جعد', 'درید', 'فرع', 'شكل', 'گزید', 'لباس', 'اینت', 'مخزن', 'لقب', 'مزید', 'هیبت', 'کوثر', 'ثنا', 'زمستان', 'بيا', 'تفت', 'شماست', 'خودی', 'نباشی', 'نالان', 'خان', 'گردند', 'غره', 'راهی', 'خروش', 'صیام', 'اعتبار', 'رسیدی', 'ضعیف', 'برانی', 'بیزار', 'بگرفته', 'صحرای', 'جد', 'منع', 'حلاوت', 'كام', 'دَم', 'ارغوان', 'صندوق', 'جهود', 'بایزید', 'نفخ', 'باک', 'حدث', 'غیبی', 'عارض', 'سنان', 'همگان', 'پهلوان', 'مشت', 'برند', 'مومنان', 'كاه', 'بازآ', 'ناطق', 'ضعف', 'كمتر', 'گوشم', 'عمری', 'هل', 'زيبا', 'بُن', 'قلعه', 'ماننده', 'عادت', 'هش', 'عيب', 'بنهاده', 'نشاند', 'باغی', 'افلاک', 'جلال', 'صواب', 'لنا', 'میبری', 'جوست', 'ملولی', 'سَر', 'بنهاد', 'تقلید', 'مها', 'مهی', 'صبوری', 'خوریم', 'مقامی', 'تحمل', 'آزار', 'سخا', 'فرّ', 'نگاری', 'کریم', 'پهلو', 'تقدیر', 'سگی', 'راستی', 'مشورت', 'نخست', 'وصلت', 'پرهیز', 'بيرون', 'مطبخ', 'خلیفه', 'مگذار', 'ندیده', 'رنگی', 'عمران', 'مغان', 'فکند', 'انكار', 'نقطه', 'غریبی', 'دگری', 'عارفان', 'جماعت', 'آرزوی', 'گشود', 'طوق', 'چاهی', 'متهم', 'ببری', 'ظالم', 'کین', 'جملگی', 'عاقلی', 'جمالش', 'بیضه', 'عقلم', 'بمانی', 'دلها', 'سؤال', 'دنگ', 'بلبلان', 'پاینده', 'پرس', 'خاتم', 'بگریزد', 'رباب', 'زبانی', 'موقوف', 'جماد', 'سعی', 'حامله', 'آشفته', 'پلید', 'ناف', 'یافته', 'ظفر', 'فزاید', 'نگردی', 'هشیاری', 'مغرب', 'سنگین', 'بگشای', 'نم', 'مشك', 'طبیبان', 'عجایب', 'آموخته', 'اخوان', 'خشت', 'خموشی', 'جم', 'ابراهیم', 'وسوسه', 'بندِ', 'حجره', 'منش', 'قسم', 'جدایی', 'یارا', 'حبیب', 'زشتی', 'میکنند', 'بجهد', 'كنیزك', 'لگن', 'فرح', 'سرگردان', 'ختن', 'دارو', 'بساز', 'پیام', 'كوزه', 'رضای', 'تف', 'جوشد', 'کشتن', 'ریزد', 'کیمیا', 'نوشت', 'بروم', 'کبوتر', 'انگبین', 'کشانی', 'جوق', 'طشت', 'ببسته', 'زلفش', 'كنار', 'قیل', 'خیالات', 'جاهل', 'آییم', 'درهم', 'ترازو', 'خورشیدی', 'ناپدید', 'اندازه', 'فزایی', 'خنب', 'انديشه', 'رویان', 'کانی', 'بازآمد', 'بیخبر', 'نگاه', 'تسلیم', 'گردیم', 'فرخ', 'تعال', 'تماشای', 'فضول', 'ناچار', 'گیاه', 'مرحبا', 'پیاپی', 'بشكند', 'ماری', 'لو', 'كمین', 'فرزندان', 'گون', 'ریخته', 'داستان', 'گویا', 'گزند', 'قدس', 'تقاضا', 'غول', 'پردۀ', 'نشانه', 'پایش', 'زه', 'اوستاد', 'شرمسار', 'فریب', 'كاری', 'غزا', 'دزدان', 'لطافت', 'پیشم', 'صدیق', 'کهن', 'غنی', 'جزای', 'فتاده', 'بگذری', 'ساختی', 'طین', 'تاریک', 'افشان', 'غذای', 'محل', 'چست', 'آیدت', 'بلیس', 'دلست', 'گفتیم', 'بخواند', 'معذور', 'کفش', 'بحری', 'حکايت', 'فسانه', 'آتشم', 'اینها', 'رمز', 'نظم', 'رهزن', 'عذار', 'قيامت', 'احمق', 'قران', 'نصیب', 'درویشی', 'جهاد', 'نومید', 'بگریز', 'اندكی', 'ماتم', 'بگویی', 'ایوان', 'بغل', 'زين', 'خُرد', 'نترسد', 'معراج', 'صبحدم', 'زید', 'خرس', 'شناس', 'لاحول', 'نكو', 'مثنوی', 'زنار', 'بخندد', 'مهتاب', 'قدحی', 'ایزد', 'نافه', 'رز', 'مقال', 'شايد', 'محبوب', 'بشو', 'پیداست', 'نسيم', 'اینست', 'میخورد', 'سودی', 'خروس', 'سیمین', 'درش', 'پستان', 'زره', 'صیقل', 'رضوان', 'محراب', 'وادی', 'خلایق', 'عقول', 'طلعت', 'داشتی', 'مخوان', 'غارت', 'هاش', 'ظل', 'غایت', 'كوی', 'قحط', 'سنی', 'شگرف', 'اظهار', 'شیدا', 'هایی', 'شریف', 'گیا', 'وجه', 'پیاله', 'حبه', 'گول', 'بتی', 'شکرستان', 'معده', 'مسکين', 'کارم', 'ثم', 'كهنه', 'كنید', 'مصور', 'مكان', 'ترشی', 'كلام', 'کشیدی', 'سرور', 'گرداند', 'کسان', 'فرهاد', 'فراقت', 'بچه', 'قضای', 'كمان', 'بشکنم', 'لبی', 'ربانی', 'شاهدان', 'پرستان', 'قرب', 'دریده', 'حُسن', 'رهبر', 'کلید', 'چَه', 'جوئی', 'چاشنی', 'شگفت', 'طعام', 'بمیرد', 'دهانم', 'اتفاق', 'عروسی', 'سبلت', 'ناقص', 'سوزی', 'ماده', 'بگردانی', 'سختی', 'ساحران', 'نحس', 'خوانده', 'درت', 'خوشش', 'آوری', 'مدان', 'کناری', 'نشايد', 'زرق', 'له', 'سلیمانی', 'دهانش', 'سالی', 'اندکی', 'گشادی', 'ورق', 'قبای', 'سرسبز', 'مخدوم', 'فسرده', 'قراضه', 'غباری', 'خارا', 'کاهل', 'شکستی', 'بجوشد', 'تركِ', 'یابم', 'حارس', 'صفای', 'شادان', 'میكنند', 'گیج', 'گذار', 'دنيا', 'الجلال', 'جستم', 'وظیفه', 'كردگار', 'چهار', 'عسس', 'محشر', 'آیت', 'شادمان', 'نفیر', 'تابد', 'ستیزه', 'وآنگه', 'ساحل', 'سروی', 'عز', 'فرياد', 'خرما', 'شکایت', 'ورنه', 'نهند', 'لطفش', 'افسرده', 'نتواند', 'دهید', 'بالصواب', 'بنگری', 'دانک', 'فشان', 'دخل', 'خوشه', 'ستی', 'سعد', 'فلا', 'سرمایه', 'برآری', 'جویای', 'كنیم', 'چراست', 'بید', 'فشاند', 'صيد', 'حیا', 'نوع', 'سبا', 'رقعه', 'عامه', 'رشك', 'پایه', 'دشنام', 'یخ', 'محبوس', 'خلقی', 'اضطراب', 'ممتحن', 'تیری', 'قناعت', 'دوار', 'شک', 'حساب', 'مزد', 'خفیه', 'زال', 'نادان', 'بنهد', 'آرید', 'كرّ', 'ذا', 'منبر', 'سمع', 'كِشد', 'بنمای', 'ربّ', 'حسنت', 'هشت', 'بدرد', 'سوال', 'بشنید', 'کشیده', 'زلال', 'نگردم', 'چندی', 'زانو', 'ربی', 'حج', 'لاغ', 'کامروز', 'ناقه', 'نگشت', 'ملایك', 'بدار', 'مشکین', 'دشمنی', 'غرور', 'قوّت', 'سرها', 'نكرد', 'بشکند', 'میا', 'صبری', 'دریایی', 'كوته', 'دائما', 'ایمنی', 'نيايد', 'سزا', 'ابن', 'سرکش', 'آئی', 'افسوس', 'چُست', 'مقلد', 'چرب', 'كافران', 'حسام', 'قرن', 'راضی', 'زرّ', 'آفتی', 'عنا', 'شی', 'بهاران', 'رجا', 'فروشد', 'صحن', 'بنشست', 'وبال', 'شیرینی', 'مردگان', 'حرمت', 'نگری', 'برآورد', 'آفرید', 'عطای', 'بدادی', 'تمییز', 'صرفه', 'دوتا', 'مشتاقان', 'نقص', 'فساد', 'جوز', 'ازیرا', 'بکشم', 'امانت', 'قبض', 'بُدند', 'غلغله', 'بيند', 'گشتیم', 'عریان', 'زنبور', 'جسد', 'بوالعجب', 'كیش', 'ارادت', 'همای', 'ترسی', 'نهادی', 'درنگر', 'هفتاد', 'زینهار', 'فیض', 'فال', 'ديدن', 'دهر', 'زمن', 'جوشش', 'برآیی', 'نبودش', 'قطب', 'مستور', 'بنشسته', 'چشمان', 'سودایی', 'آزادی', 'بدانک', 'سخُن', 'گشتن', 'آذر', 'گز', 'تب', 'شیره', 'ذرات', 'قابل', 'سزد', 'ببندی', 'مجاز', 'صالح', 'قاعده', 'پوسیده', 'حیف', 'قلزم', 'صباح', 'رنجوری', 'بارد', 'طوطیان', 'گلبن', 'سلطنت', 'امکان', 'مبدل', 'رَه', 'بنا', 'حزم', 'پژمرده', 'نصيحت', 'تباه', 'خجسته', 'تنور', 'ناگاه', 'رایگان', 'سرمستم', 'میگشت', 'طفلان', 'شهنشاه', 'تفسیر', 'دوی', 'خرگاه', 'دریاب', 'بینند', 'آموختی', 'بينی', 'جهانم', 'نازنین', 'كون', 'الفرج', 'درج', 'شوریده', 'میزنم', 'بریزد', 'رسان', 'همایی', 'مینمود', 'چونست', 'حنین', 'نمایم', 'چراغی', 'مسكین', 'بدهم', 'فوت', 'عقلت', 'پرگار', 'اصول', 'مبتلا', 'بزنی', 'نمرود', 'وش', 'برست', 'کبریا', 'خواندن', 'حكیم', 'بگیری', 'جَست', 'صرف', 'لطفِ', 'پیرهن', 'ابلهی', 'نهایت', 'دربان', 'پرنور', 'جغد', 'جستی', 'نیافت', 'نزدیك', 'نمیکند', 'چشمۀ', 'هفتم', 'مُرد', 'لطفت', 'بهشتی', 'انداختی', 'ناظر', 'نظیر', 'زمين', 'آلود', 'واقعه', 'کافری', 'كعبه', 'طريق', 'روباه', 'سابق', 'میخواهی', 'قطار', 'خویشم', 'بغداد', 'گلگون', 'ستیز', 'مگوی', 'وصفِ', 'تقوی', 'آموز', 'پیچیده', 'تويی', 'احمر', 'جادوی', 'آیین', 'عمی', 'حمد', 'امت', 'فراخ', 'شوخی', 'فراموش', 'انعام', 'بیدل', 'معلوم', 'دیوانگی', 'ریختی', 'توییم', 'مران', 'نيک', 'دُر', 'خرید', 'اندیشی', 'دینار', 'نخل', 'قشر', 'ضلال', 'دادند', 'متصل', 'سردی', 'همو', 'شسته', 'خاکم', 'فایده', 'گورستان', 'اصلی', 'نهادم', 'بلایی', 'هیهات', 'پرید', 'نامد', 'تعظیم', 'ندیم', 'مزاج', 'گرسنه', 'بخوانی', 'صلای', 'نشناسد', 'تلف', 'فكرت', 'پایدار', 'نوایی', 'همسایه', 'ماهت', 'بیافت', 'ولا', 'میگذرد', 'نخورد', 'غلامی', 'بلقیس', 'پود', 'پاش', 'نديدم', 'برگی', 'لقای', 'كشی', 'اشتری', 'عشقست', 'نشیند', 'معین', 'عقلش', 'محتشم', 'الروح', 'عند', 'بُدست', 'غایب', 'اسم', 'ثمر', 'شرع', 'جنبان', 'سبوی', 'ریزی', 'برخیزد', 'نسل', 'بگریستی', 'مخلص', 'شرار', 'تافته', 'بخر', 'ملکی', 'شمر', 'دلارام', 'لیكن', 'حمام', 'ساخته', 'هوایی', 'بندم', 'صبحی', 'موضع', 'ديد', 'محك', 'اینك', 'ديوانه', 'ترسا', 'قوتِ', 'ربنا', 'کنعان', 'نخورم', 'کلک', 'رمه', 'لاابالی', 'منافق', 'مطلوب', 'اومید', 'گلوی', 'میش', 'آبش', 'بگزیده', 'آبستن', 'پرسید', 'مستیم', 'خواهند', 'خورشيد', 'ژاژ', 'بنیاد', 'جیحون', 'خاصیت', 'فیه', 'افتادن', 'دیدند', 'كردش', 'بخل', 'مطلب', 'رُخ', 'مشنو', 'زردی', 'عاریت', 'صومعه', 'مطربا', 'پراکنده', 'براق', 'قمری', 'حلوای', 'ببستی', 'فراغت', 'نغز', 'طوبی', 'حدّ', 'ُكل', 'بپوشد', 'موزون', 'نزار', 'توكل', 'رجوع', 'پذیرد', 'برگشا', 'ساعد', 'بگریزی', 'گلیم', 'کرشمه', 'دمدمه', 'بزرگ', 'سُست', 'سیاهی', 'هما', 'یم', 'نگذارد', 'بنوش', 'محجوب', 'سواره', 'امیری', 'میرم', 'قلندر', 'خوشترست', 'زحل', 'احول', 'دَه', 'آشكار', 'بازم', 'میکشد', 'عصای', 'افکنده', 'نباتی', 'تزویر', 'شاباش', 'درخور', 'نیت', 'كشت', 'پندارد', 'حشم', 'نیمی', 'نداد', 'رخم', 'لعنت', 'کرامت', 'تشنگان', 'بخارا', 'بشکنی', 'نتوانم', 'قل', 'مغرور', 'جسته', 'رستخیز', 'گزیده', 'براند', 'هیهای', 'پرستی', 'یاسمین', 'امام', 'صراحی', 'بگوئی', 'لطیفی', 'پایت', 'تصویر', 'کوبد', 'وسواس', 'غذا', 'کشاند', 'کینه', 'بینش', 'صفرا', 'ساكن', 'حامل', 'وثاق', 'مختصر', 'مهان', 'بخاری', 'وه', 'گوشی', 'گذری', 'عنود', 'خندی', 'زرم', 'محض', 'نزدیک', 'خند', 'برآر', 'ببخشد', 'خوشت', 'شاهدی', 'میدانی', 'دمد', 'فرقت', 'دردم', 'علیکم', 'عرصه', 'آبم', 'گستاخ', 'امسال', 'ترسان', 'روانه', 'كآن', 'مقبل', 'كدامین', 'خویشان', 'گوشش', 'نگفتم', 'پیک', 'یابند', 'اسلام', 'گریزان', 'صورتِ', 'خوردند', 'زبانم', 'سواری', 'زخمی', 'میروم', 'ناب', 'نفع', 'لبم', 'فرستی', 'بيچاره', 'گفتندش', 'جائی', 'حبیبی', 'دریاست', 'كینه', 'فراغ', 'افروخته', 'سلامی', 'كنان', 'تقصیر', 'بسيار', 'واعظ', 'نسلم', 'پایم', 'یگانه', 'نازک', 'هرزه', 'میکرد', 'مویی', 'مگریز', 'اختيار', 'صبوحی', 'نحن', 'کسب', 'کرانه', 'خشکی', 'آمین', 'بایدت', 'التفات', 'كِشت', 'خورشیدِ', 'کیوان', 'داوری', 'حیرانی', 'صورتش', 'گلاب', 'پرواز', 'مستِ', 'رحمتی', 'جمادی', 'سکر', 'بنی', 'جنین', 'رسدم', 'كاروان', 'خاتون', 'حفظ', 'مرادی', 'برداشت', 'پیوند', 'حی', 'رقیب', 'سلیم', 'اسير', 'فرصت', 'نغمه', 'نسیه', 'نمودن', 'خفاش', 'نانی', 'عمو', 'كفش', 'بز', 'ليلی', 'آوردن', 'رهاند', 'شبم', 'زیرک', 'قوس', 'دیدیم', 'مرجان', 'مهربانی', 'كردست', 'نظرش', 'خورند', 'بالله', 'اعظم', 'اندازد', 'نطفه', 'محسوس', 'برهد', 'تمنا', 'شیرگیر', 'حجر', 'جادو', 'خوشا', 'انی', 'پیمان', 'شنیده', 'فرعونی', 'بجه', 'باشند', 'ثبات', 'دادِ', 'مرض', 'زمینی', 'پرّ', 'منشین', 'ضرر', 'افق', 'طراری', 'شكم', 'بجنبان', 'شخصی', 'گمانی', 'چنانم', 'رغبت', 'چنگی', 'اجابت', 'جدّ', 'ترسد', 'نبدی', 'شطرنج', 'یوسفان', 'معنوی', 'فلانی', 'ياران', 'دلیر', 'تریاق', 'نجات', 'انجمن', 'سالار', 'ظریف', 'ببریده', 'رمیده', 'میزنند', 'ظلمات', 'بجست', 'رحمان', 'تنت', 'مصحف', 'بنالد', 'تنگی', 'آشنایی', 'یتیم', 'القلب', 'جولان', 'ناودان', 'کشاکش', 'گداز', 'دلستان', 'ضایع', 'بهره', 'خصال', 'بساط', 'لرزد', 'یاقوت', 'فرخنده', 'بکشی', 'احتمال', 'ثانی', 'بگشاده', 'پرورده', 'حقا', 'وآنكه', 'غلامان', 'شورش', 'خطاست', 'پرورش', 'دمم', 'نظرم', 'رنگین', 'نقره', 'گويد', 'ضیاء', 'حبذا', 'پروای', 'ضرورت', 'خواهیم', 'دردِ', 'نگنجی', 'سور', 'تیزی', 'یارب', 'بگرد', 'رفتار', 'آمیختی', 'کدو', 'بازش', 'زنخدان', 'معمور', 'روئی', 'طلبی', 'کاش', 'شاخی', 'ریاضت', 'مسکن', 'طبیبی', 'بسم', 'شکاف', 'شاهنشه', 'خوانم', 'کلام', 'سیمرغ', 'کاو', 'بریز', 'مریخ', 'وقف', 'طرار', 'جذبه', 'گذشتی', 'امیران', 'ندهی', 'تتق', 'دائم', 'میهمان', 'جايی', 'مایۀ', 'شوری', 'عطارد', 'بران', 'ساحر', 'شكسته', 'نباید', 'وصالش', 'مناجات', 'یحیی', 'فکنده', 'واله', 'بابا', 'آخور', 'ازرق', 'برکند', 'هندستان', 'هواست', 'یمین', 'كبر', 'پوز', 'ملاقات', 'عبرت', 'حله', 'اگرم', 'گویدت', 'پیشین', 'گمره', 'نوی', 'بوالحسن', 'رهش', 'سند', 'شفاعت', 'مبند', 'راح', 'جمالی', 'دلبران', 'رانی', 'ابری', 'گرش', 'محکم', 'چارم', 'رنجی', 'همين', 'تسخر', 'مرغزار', 'خفت', 'لولی', 'کیف', 'سرنگون', 'سالوس', 'ء', 'رخی', 'بازوی', 'زرگر', 'بیاور', 'خَوش', 'حقی', 'قم', 'ماء', 'دستور', 'گفتمی', 'بادیه', 'خوبتر', 'نمك', 'سحرگه', 'وجودت', 'سی', 'مینماید', 'ميل', 'گلخن', 'شکفته', 'نشستی', 'مولی', 'كشف', 'دانسته', 'دلو', 'راد', 'حزین', 'بپر', 'روپوش', 'شبه', 'حین', 'سره', 'زوال', 'اشکوفه', 'صبرم', 'جناب', 'بودست', 'لحم', 'آوردی', 'اولیتر', 'بيش', 'نگفت', 'سیما', 'گزیدی', 'آسیب', 'رایت', 'قانون', 'بریم', 'عمارت', 'رمزی', 'ببايد', 'مفروش', 'ديدم', 'جانشان', 'جویبار', 'کوتاه', 'نصرت', 'تاثیر', 'دُم', 'شکستم', 'پیشوا', 'غضب', 'مانم', 'آتشش', 'نظرت', 'رعنا', 'سبحان', 'نخوت', 'رقم', 'مضطر', 'قبلۀ', 'آیدم', 'سلاح', 'تلقین', 'آینۀ', 'مزه', 'پذیر', 'رسیدم', 'هاشان', 'عوان', 'نگران', 'سقایی', 'ببندم', 'خوابم', 'خریدار', 'تبدیل', 'بشارت', 'کامل', 'بیهوده', 'اشکم', 'ثواب', 'دگران', 'شصت', 'سویی', 'طبیعت', 'افروز', 'سهی', 'بایدش', 'سرنای', 'ترانه', 'اندام', 'دهانت', 'دامان', 'تاریك', 'ختم', 'چنانكه', 'سامری', 'كشان', 'مهار', 'اعمی', 'مستند', 'بویش', 'خیل', 'مهین', 'مهلت', 'ماندم', 'جوشان', 'سوم', 'پايان', 'لعب', 'غنیمت', 'رند', 'میرفت', 'افتادست', 'جبین', 'اتحاد', 'حرفی', 'خزینه', 'قبل', 'نخسپی', 'مستمع', 'مكش', 'صلی', 'حاشا', 'دولتی', 'لکم', 'فاتحه', 'نکشد', 'برکن', 'صوت', 'آیتی', 'نروید', 'سیلاب', 'ترکی', 'فرس', 'حافظا', 'ابتلا', 'بیزارم', 'لبان', 'جهات', 'تاز', 'حبل', 'کاس', 'نبوده', 'لطفی', 'بتافت', 'خندیدن', 'علینا', 'زری', 'بم', 'زلیخا', 'آوردم', 'آز', 'مصری', 'آغوش', 'پیران', 'بگیرم', 'گاوی', 'بقایی', 'دادش', 'گدایان', 'شناخت', 'هات', 'برگیر', 'رخنه', 'شتافت', 'زودتر', 'سرما', 'بپرد', 'مقدس', 'سمر', 'غربت', 'توفیق', 'خودم', 'عیاری', 'معجزه', 'لعلش', 'لفظ', 'جعفر', 'مظهر', 'نمد', 'سراسر', 'کاشکی', 'ليکن', 'مدارید', 'چرخی', 'رسند', 'جملگان', 'کشیدم', 'صفی', 'نباشم', 'هستند', 'یاسمن', 'ارمغان', 'یونس', 'زنبیل', 'قیصر', 'هوشی', 'عافیت', 'آستانه', 'ضدّ', 'بستن', 'فرهنگ', 'ظاهرش', 'كامل', 'گرگی', 'آيی', 'آصف', 'سرنا', 'خنك', 'خسروان', 'خاقان', 'كیا', 'طی', 'سببها', 'عاد', 'ناطقه', 'دریدی', 'دانیم', 'ارمغانی', 'نعیم', 'عزیزی', 'تشنیع', 'نشوی', 'مسافر', 'صفیر', 'مفلسی', 'بگردد', 'مالک', 'وليک', 'سهو', 'شاعر', 'تبریزیان', 'بقای', 'سلم', 'حيران', 'بتابد', 'دمش', 'بلندی', 'بیهده', 'افیون', 'بازاری', 'سیران', 'مشام', 'پسند', 'حمال', 'محیط', 'كشته', 'بادِ', 'نوشی', 'زندانی', 'پوشد', 'چاک', 'کآتش', 'ضرب', 'طعم', 'قیام', 'اشكسته', 'نهنگ', 'بعدِ', 'کلوخ', 'طالبان', 'برقرار', 'فان', 'نا', 'دقوقی', 'تعلق', 'گرانی', 'حکیم', 'رهید', 'مدهوش', 'مركب', 'چوبین', 'نهال', 'مبارك', 'فروخت', 'انجم', 'تقوا', 'شید', 'ایها', 'تنند', 'ضعیفی', 'عرق', 'خواستم', 'ياری', 'افلاك', 'وارهد', 'جالینوس', 'هامون', 'کردست', 'عشقبازی', 'باقیش', 'بیاموزم', 'خاید', 'وآنچه', 'نمای', 'چینی', 'مصاف', 'مهتری', 'دستگیر', 'مهتر', 'کدامین', 'نشنوی', 'بهای', 'چندين', 'پریشانی', 'بره', 'طاس', 'خوابش', 'دين', 'اشتران', 'تقریر', 'روانی', 'میسر', 'ديوار', 'جسمی', 'قرارم', 'ذاک', 'اعتراض', 'جوابی', 'گوینده', 'مجروح', 'سیری', 'ملت', 'ببردی', 'همرنگ', 'بگوییم', 'ترُش', 'وفایی', 'گردنم', 'قتل', 'نیزه', 'بكن', 'برخوان', 'میگوید', 'شمرد', 'بنگرم', 'ببرم', 'درگه', 'خواجۀ', 'اینچنین', 'پلیدی', 'زنخ', 'جهید', 'میبينم', 'اغلب', 'دمت', 'مَه', 'تشنگی', 'افتم', 'معشوقه', 'جستجو', 'پاس', 'كبود', 'کبود', 'پریان', 'طیار', 'ترم', 'آشوب', 'ببرید', 'لالا', 'ماجرای', 'قدمی', 'طال', 'سحاب', 'خارم', 'سیمای', 'غرب', 'معزول', 'نوعی', 'فرستاد', 'فرزین', 'مرگِ', 'معلق', 'مجوی', 'پندار', 'اجتهاد', 'كیمیا', 'زیبایی', 'اه', 'مخنث', 'مینهد', 'نجوید', 'خبیر', 'مختلف', 'فاخته', 'برسان', 'راستین', 'کمینه', 'غلغل', 'روانم', 'دردمند', 'شفا', 'بلال', 'پنداشته', 'باخت', 'مطربان', 'سنبله', 'سفره', 'داوود', 'بربود', 'گناهی', 'بارگاه', 'افتادی', 'عطار', 'ربودی', 'بعضی', 'تنش', 'خرده', 'اندوه', 'رعد', 'عزيز', 'پوشی', 'ملاحت', 'خمخانه', 'سپرد', 'واصل', 'درها', 'بگرداند', 'غاری', 'برآور', 'نبد', 'میداری', 'اگرت', 'برداشتی', 'ببندد', 'وجودی', 'سنت', 'آهی', 'پرور', 'آورم', 'بين', 'سوختن', 'چنبر', 'منطق', 'انباز', 'پريشان', 'برابر', 'اعتماد', 'هاروت', 'دوای', 'نمیآيد', 'رخساره', 'حوری', 'آنگهی', 'نسوزد', 'دنی', 'نرد', 'وانكه', 'عبارت', 'نمیشود', 'شرب', 'تهیست', 'تکیه', 'جُرم', 'طریقت', 'طلسم', 'نیستش', 'دلکش', 'چتر', 'مولا', 'طایر', 'خشكی', 'كردیم', 'میرند', 'نامۀ', 'دوز', 'نِه', 'دفین', 'جداست', 'بدهی', 'گرچه', 'حقيقت', 'میكن', 'شناسی', 'نهفت', 'زلزله', 'اخضر', 'صداع', 'مخفی', 'بدرید', 'سمایی', 'پرسش', 'نوشد', 'پیوست', 'پير', 'درنگ', 'اشارتی', 'بگریزم', 'بنگرید', 'زنید', 'حرامست', 'علا', 'ساقیان', 'حواس', 'بجستم', 'عيش', 'جوینده', 'میری', 'آله', 'افزا', 'جمعیت', 'رهایی', 'بصیرت', 'نپذیرد', 'گلشنی', 'آفتابِ', 'جوشن', 'شعشعه', 'لقمۀ', 'ارض', 'نجوم', 'خداوندا', 'تحفه', 'گوییم', 'رسیدیم', 'قصاب', 'تمامی', 'جبری', 'بامی', 'شفق', 'بلک', 'پرآتش', 'حسی', 'موری', 'درويش', 'دانۀ', 'دريغ', 'گير', 'بُرده', 'معلم', 'بكش', 'زحیر', 'ازین', 'سيم', 'نیستت', 'مخدومی', 'هدهد', 'نكته', 'جادوئی', 'فروز', 'همراز', 'شقی', 'مطلع', 'کحل', 'خراج', 'فارس', 'بيار', 'ایرا', 'فرستد', 'مگردان', 'شیرم', 'کشدم', 'خاکیان', 'افتادم', 'کشش', 'شهنشه', 'سکون', 'میبینم', 'ولوله', 'آشکارا', 'خوبت', 'نموده', 'زکات', 'سامان', 'دیوی', 'حیل', 'قدمت', 'آفات', 'برخاسته', 'رسیدن', 'حقیر', 'لیل', 'حول', 'گلگونه', 'اوفتد', 'عجوز', 'سنجر', 'صهبا', 'بنشان', 'نپرد', 'سرشت', 'اشكال', 'تهدید', 'ثابت', 'گویدش', 'منظور', 'سپه', 'آئینه', 'کمانی', 'غرّه', 'دوام', 'ابلیسی', 'نگويم', 'غریو', 'شاها', 'صعب', 'معدوم', 'نیایی', 'آوردند', 'آراسته', 'بمانده', 'کفی', 'آخرت', 'مهل', 'شيرينی', 'کاره', 'برین', 'ستون', 'کهربا', 'كوران', 'لحن', 'بزرگی', 'برقی', 'زارم', 'کآب', 'دستوری', 'شکند', 'موجب', 'گذشته', 'سیدی', 'بَرَد', 'سواد', 'كلوخ', 'گشایی', 'جامۀ', 'مردود', 'الهام', 'مؤمن', 'خرامد', 'کشف', 'خَورد', 'دق', 'طاوس', 'قصور', 'بمرد', 'سوزش', 'شکايت', 'هلاك', 'سرهای', 'رخشان', 'بسازد', 'بالین', 'درهای', 'داران', 'آشکار', 'مسند', 'حریص', 'كسان', 'خاشاک', 'سرمدی', 'نشینی', 'هوشمند', 'دگرباره', 'مسلمانی', 'شکرخنده', 'نرمی', 'سجاده', 'مبارکست', 'سرکشی', 'ولیك', 'حقم', 'میغ', 'یکتا', 'بلبلی', 'بریدی', 'شاگرد', 'بدانم', 'یكسان', 'تهمت', 'زاهدان', 'شها', 'نبرم', 'زبانه', 'لگد', 'جرس', 'خرگه', 'بخواهی', 'بودمی', 'یافتند', 'بوس', 'غلطان', 'کوره', 'شهید', 'چارق', 'شهرها', 'قدری', 'اولین', 'پاكی', 'میگويد', 'مهم', 'بربط', 'حيف', 'بشکسته', 'گرید', 'بخسب', 'رفعت', 'حاكم', 'خد', 'مایده', 'جانور', 'اید', 'برگِ', 'عاری', 'اكرام', 'خسبد', 'ريش', 'ستر', 'معتمد', 'روشنم', 'مخالف', 'رزم', 'كشتن', 'سيمين', 'نایب', 'نزند', 'خامشی', 'بفروش', 'بیاموز', 'ندانند', 'تبع', 'کناره', 'میدود', 'قی', 'شرّ', 'سخنم', 'فرزانه', 'شاهانه', 'استا', 'سکه', 'درازی', 'عاریه', 'نگرد', 'میم', 'اقلیم', 'تشویش', 'برنتابد', 'قبه', 'جنسیت', 'مِنْ', 'شمال', 'وحشت', 'گروهی', 'عم', 'کشند', 'میراث', 'غمخوار', 'حبش', 'برکنی', 'طعمه', 'دلربا', 'نگیرم', 'سپار', 'سلطانان', 'ریسمان', 'عوام', 'غیری', 'نذر', 'ديگری', 'کوش', 'شيراز', 'بختی', 'پلنگ', 'خادم', 'خدمتی', 'اثبات', 'ویرانی', 'توحید', 'دوزخی', 'جلیل', 'وارهی', 'بُرید', 'خفتن', 'بگفتمش', 'میدهی', 'نتاند', 'سقط', 'بادم', 'سراب', 'بازگو', 'ادراك', 'مجموع', 'دامنش', 'بخند', 'دهانی', 'چله', 'مشهور', 'بعید', 'هامان', 'تیشه', 'همتی', 'سپهر', 'شكایت', 'حاتم', 'نز', 'تعب', 'رس', 'دینی', 'رسولی', 'صباحی', 'بروی', 'جاری', 'ابلهان', 'لعبت', 'ادهم', 'ش', 'ُگم', 'بریخت', 'ذوالفقار', 'نبودم', 'رازی', 'زاهدی', 'ربا', 'عمرت', 'مشتی', 'قصدِ', 'پیکار', 'القلم', 'بشنیده', 'خاموشی', 'گریست', 'هنگامه', 'دریابد', 'كفِ', 'رسدش', 'گردِ', 'حاکم', 'عقار', 'آفتابا', 'ذرّه', 'خلل', 'میبرم', 'آمیز', 'کشیم', 'ثری', 'خِرَد', 'مغلوب', 'فراش', 'وصلش', 'بدری', 'فکن', 'لاغری', 'نشوم', 'خوابِ', 'خرابم', 'لهب', 'تصور', 'پیاز', 'بسوزی', 'خاصان', 'ارم', 'جنبد', 'خسیس', 'مخلوق', 'سپند', 'خانقاه', 'وفاست', 'عذرا', 'سپاری', 'مجید', 'لرزی', 'وصالت', 'کوشش', 'ماهم', 'الذی', 'مشین', 'جبریل', 'بیع', 'منصب', 'آنرا', 'رخان', 'میرسید', 'ملکت', 'كارد', 'حرب', 'کرسی', 'دررسد', 'استش', 'تمثیل', 'گهواره', 'نمیرود', 'معجزات', 'بانگی', 'نكردی', 'فلسفی', 'طلبت', 'فنای', 'ترجمان', 'الدنیا', 'خبرم', 'تحیر', 'تاش', 'کامشب', 'پنداشت', 'حرج', 'فنون', 'نامت', 'ضربت', 'یادم', 'قصاص', 'چغز', 'نجنبد', 'بمیرم', 'مستجاب', 'برکنم', 'سوختی', 'تانی', 'مجرد', 'بالایی', 'مریدان', 'هوشیار', 'نوروز', 'آریم', 'ميسر', 'انسانی', 'فاسد', 'کآمد', 'کارش', 'کردگار', 'قید', 'نامم', 'عطایی', 'مراقب', 'ترکان', 'برات', 'فرض', 'نیفتد', 'ایزدی', 'نبيند', 'جانانه', 'مفتون', 'مثالی', 'طلبد', 'رحیق', 'دلال', 'پالان', 'طراز', 'داشتن', 'انگیز', 'حسّ', 'كوثر', 'بدریده', 'مسیحا', 'بخوردی', 'سرده', 'زفتی', 'سماوات', 'گزافه', 'كت', 'ماش', 'بشکستی', 'آستين', 'گلنار', 'کاشانه', 'عقد', 'كوهی', 'ربابی', 'رهیده', 'اجزا', 'ضعیفان', 'ناصح', 'نالد', 'دورم', 'وجودم', 'بدست', 'رباید', 'َكه', 'مومنی', 'صوم', 'طاووس', 'صیادی', 'بشكست', 'داور', 'خفی', 'انگوری', 'محترم', 'تندی', 'تموز', 'بجوی', 'گوا', 'نگفتی', 'بستد', 'خيمه', 'بجنبد', 'دريا', 'پرسی', 'بازان', 'عبادت', 'ماندی', 'اشکال', 'انار', 'کدامست', 'سغراق', 'خریدی', 'عقبی', 'هجرت', 'بسوزم', 'رَمَیتَ', 'بهمن', 'لقایی', 'پروری', 'گرگان', 'پیروز', 'گامی', 'ممكن', 'منقطع', 'پرم', 'قاتل', 'میكنم', 'خورش', 'حيات', 'اختیاری', 'شادم', 'سیمبر', 'باشدش', 'ُترك', 'مناره', 'تشریف', 'دمید', 'كلیم', 'بالش', 'گرفتن', 'قطع', 'تمنای', 'رَست', 'پاکان', 'گلم', 'روزم', 'ویست', 'کفت', 'مظلوم', 'ندانیم', 'پَرّ', 'ابتدا', 'نبینم', 'دزدد', 'پيمان', 'زادی', 'راهم', 'باقیان', 'دامنت', 'ضریر', 'ناسزا', 'اعتقاد', 'اکبر', 'دولاب', 'نیشکر', 'جلالت', 'مقبول', 'كتاب', 'منتها', 'شوهر', 'انتقام', 'اسرافیل', 'خلقت', 'احمدی', 'پاسبانی', 'زانکه', 'صانع', 'بصیر', 'فارغیم', 'بنهم', 'شاخه', 'ودود', 'بخندیدی', 'دودی', 'سرسری', 'خمشی', 'غوی', 'اسبان', 'عور', 'عراق', 'ندارند', 'ننهد', 'دیدست', 'شاهنشاه', 'حسنش', 'سنگِ', 'موكل', 'بستاند', 'مری', 'الفرار', 'صدقه', 'میوۀ', 'اختلاف', 'نيم', 'مشكل', 'مما', 'جُستن', 'مسبب', 'کاغذ', 'بدل', 'کيست', 'بنهی', 'مجرم', 'قبطی', 'وصالی', 'عامی', 'پايت', 'بُت', 'میخورم', 'نفر', 'گرفتست', 'جوحی', 'استغفار', 'دیدِ', 'آوازه', 'ناتوان', 'حقست', 'والسلام', 'تبر', 'بنال', 'بردند', 'مرمر', 'تاخت', 'صیدی', 'طپید', 'خلوتی', 'غايت', 'سستی', 'خارش', 'خُم', 'بربسته', 'استادی', 'غوغای', 'هوشیاری', 'ژنده', 'تابستان', 'فضولی', 'شهادت', 'بارگی', 'آباد', 'سهلست', 'بکنم', 'صورتت', 'أَ', 'فرسنگ', 'درشت', 'قرابه', 'كودكی', 'خمارم', 'خاکدان', 'آیه', 'غوطه', 'دنبه', 'وحشی', 'رحمی', 'جمعی', 'لن', 'رسيد', 'مستش', 'وضع', 'مدرسه', 'ساربان', 'بحار', 'ظهور', 'مويی', 'سقر', 'نیرزد', 'خلیلی', 'آمیختند', 'چيست', 'راهش', 'تان', 'میخ', 'باژگونه', 'خاطرم', 'دانستم', 'فربهی', 'رهگذر', 'بخندید', 'خامان', 'نتوانی', 'بخشایش', 'عزّ', 'نحو', 'قلتبان', 'کندم', 'عزیزان', 'یافتن', 'َگرد', 'اینم', 'تجربه', 'دایره', 'النار', 'منتهی', 'نهار', 'دستک', 'نویسد', 'الشمس', 'بستانی', 'لنگر', 'خموشم', 'بزاید', 'علتی', 'نمیآید', 'نورت', 'ید', 'عرشی', 'كندن', 'بینایی', 'نشستم', 'مختار', 'هادی', 'تاخیر', 'صنمی', 'القمر', 'دوایی', 'کآخر', 'میدارم', 'گریۀ', 'قادر', 'پادشاهان', 'دارش', 'خداوندان', 'نژند', 'تکرار', 'اثری', 'ببينی', 'منیر', 'گویمت', 'علاج', 'بلکه', 'سدره', 'نتیجه', 'آوازی', 'بسوخته', 'دوئی', 'زیست', 'خلا', 'آفتابش', 'گذارد', 'هول', 'کیمیایی', 'جل', 'برکش', 'آلتی', 'ماروت', 'بانی', 'شفایی', 'سپاس', 'مستسقی', 'صبور', 'نومیدی', 'كمترین', 'خسروی', 'رقيب', 'اسپر', 'القلوب', 'رحمتش', 'مسجود', 'فتوی', 'نتابد', 'رهیدیم', 'هُش', 'کلیدی', 'احتیاط', 'کبک', 'آمیزش', 'شكوه', 'هشيار', 'مشفق', 'بردیم', 'اسد', 'پیغامبر', 'عیال', 'ننگرم', 'توانم', 'سقم', 'نشکنی', 'نمیگنجد', 'كاسه', 'پوشید', 'بگفتندش', 'قفای', 'پیه', 'برهاند', 'نایی', 'هرچ', 'سرهنگ', 'بذل', 'عقلها', 'جستیم', 'تاویل', 'پریدن', 'خلاق', 'حلقۀ', 'الم', 'دلتنگ', 'لگام', 'کردش', 'بيگانه', 'بگریختی', 'بنشينم', 'شهوتی', 'کیا', 'نسیان', 'فارغی', 'نگفتمت', 'تكبر', 'سپیدی', 'پشم', 'جدید', 'لامكان', 'نالم', 'كلی', 'موزه', 'جبار', 'احمقی', 'خواستن', 'شکربار', 'میرد', 'قتال', 'کافران', 'نالی', 'بازآيی', 'سائل', 'ايام', 'جوابش', 'انگیخته', 'فتادی', 'ستاند', 'درونه', 'بستند', 'گوساله', 'فقیری', 'معاف', 'کشدش', 'رُست', 'چوبی', 'بادام', 'لازم', 'همیان', 'پرزر', 'خریده', 'گستاخی', 'گريبان', 'هلالی', 'حقش', 'رويی', 'گوشوار', 'سخرۀ', 'متاب', 'مراست', 'روشنایی', 'بازآی', 'ثریا', 'شکنی', 'کیمیای', 'دخان', 'يوسف', 'مددی', 'گشتست', 'رهن', 'خالص', 'نمیرد', 'تابی', 'میگویم', 'آبست', 'کبابی', 'اجسام', 'سوره', 'بزاد', 'زجر', 'ابدال', 'پنجاه', 'دسته', 'خرام', 'اسماعیل', 'نگارا', 'بخشید', 'خواندی', 'ندهم', 'عزرائیل', 'تعجیل', 'گاز', 'بط', 'آسوده', 'لمن', 'الحب', 'نال', 'مپندار', 'زيبايی', 'نمیباشد', 'الحذر', 'منقار', 'مستوری', 'میندیش', 'سقیم', 'دانای', 'ستد', 'وفاداری', 'احتراز', 'حریفی', 'شکرانه', 'الطاف', 'میکشم', 'حيوان', 'همایون', 'محابا', 'قدسی', 'نبردی', 'گیسوی', 'واز', 'نپنداری', 'انفاس', 'وعظ', 'خست', 'نفخه', 'بترس', 'دهیم', 'فتوح', 'خمره', 'تنهایی', 'بکرد', 'فقیه', 'افعال', 'ندانستم', 'کت', 'نرفتی', 'السکر', 'مهجور', 'داشتم', 'ایستاده', 'آنش', 'آغشته', 'یزید', 'نهیب', 'سوختم', 'آفتابت', 'چمنی', 'الموت', 'چل', 'مستست', 'ساغری', 'شیخی', 'بکنی', 'آيند', 'پارسی', 'گلزاری', 'اکسیر', 'افزای', 'کرمش', 'عجبی', 'رواق', 'دنیای', 'برگرفت', 'لما', 'فرقی', 'بایست', 'جدايی', 'زهری', 'نمیکنم', 'گلست', 'پیامی', 'الضحی', 'كلّ', 'پرسد', 'کره', 'لشکری', 'عیانی', 'ترانی', 'نیمه', 'ببيند', 'گمراه', 'استر', 'فکندی', 'حریم', 'شير', 'تکبر', 'فِی', 'گلستانی', 'هاون', 'قربانی', 'هوسی', 'ساق', 'کوران', 'بارم', 'نهیم', 'دیدش', 'نیارم', 'خدنگ', 'ندامت', 'آنان', 'درافتاد', 'فراوان', 'بسیاری', 'ماهیی', 'آیدش', 'مشکن', 'بریدن', 'پور', 'كاذب', 'حقه', 'شبها', 'طبله', 'طعن', 'فزونی', 'منكران', 'حادث', 'نبض', 'شبست', 'ناوک', 'تضرع', 'قائم', 'رمد', 'هاتف', 'حرون', 'گيرند', 'علمی', 'گهری', 'مردمی', 'میآید', 'ابتر', 'الحسن', 'پرسیدن', 'حوا', 'ذقن', 'صمد', 'ثنای', 'محب', 'ساحری', 'معشوقی', 'بازو', 'شبهای', 'مولای', 'نون', 'بگذشته', 'امانی', 'اسیران', 'مهندس', 'مپیچ', 'میزدند', 'زدیم', 'تیه', 'بنواز', 'حمزه', 'متاع', 'بان', 'نگین', 'بگریست', 'عیادت', 'بگويم', 'فتادم', 'خراباتم', 'پستم', 'عاشقا', 'منجم', 'کوبان', 'مپوش', 'دمار', 'انور', 'فارغم', 'تحت', 'بنموده', 'برسم', 'ایوب', 'دیگرست', 'غازی', 'جواهر', 'کیش', 'ستاری', 'حجابی', 'بپوشی', 'نمیگیرد', 'سد', 'پهن', 'لخت', 'عصمت', 'نمیبينم', 'سوختگان', 'سینا', 'خيره', 'قنق', 'ناپیدا', 'عشر', 'وداع', 'پرسم', 'یغما', 'نفرین', 'نگشاید', 'قربت', 'حاش', 'شکرخا', 'تواش', 'توایم', 'بُرون', 'درخورد', 'فناست', 'پرشکر', 'منادی', 'خصمی', 'روزها', 'شهریاری', 'هدی', 'ديگران', 'قوام', 'خدیو', 'میشوی', 'هيهات', 'استم', 'چاشت', 'هند', 'غمگسار', 'ساختن', 'وصیت', 'خرف', 'شكی', 'عجل', 'بما', 'سرزنش', 'انگشتری', 'لعلت', 'نمانی', 'كژدم', 'میکشی', 'بفریبم', 'وغا', 'هوشم', 'بستۀ', 'گرگین', 'بپوش', 'سیصد', 'كارها', 'معروف', 'بگزین', 'مرحله', 'برَد', 'بكر', 'نگیری', 'احسنت', 'شدستی', 'برآیم', 'افتادند', 'ندم', 'گریزم', 'مرج', 'جحود', 'نالۀ', 'الیوم', 'نشانش', 'تنهايی', 'پسته', 'میبرند', 'بتا', 'کوفت', 'متقی', 'اضطرار', 'مجمع', 'كیسه', 'لمع', 'خوست', 'آنگهان', 'ثمار', 'کسم', 'رمید', 'لرزه', 'بخواه', 'اينک', 'ارشاد', 'عاشقانه', 'چبود', 'رهم', 'فرست', 'تابنده', 'دشوار', 'عینی', 'سنگين', 'پریر', 'مرحمت', 'چهی', 'طول', 'دینم', 'خجلت', 'ساجد', 'شرحه', 'عمرم', 'شقاوت', 'مدت', 'مشغله', 'غروب', 'گرفتیم', 'فقد', 'رکاب', 'ببستم', 'مُلك', 'مکتب', 'نروی', 'نازی', 'الملك', 'مقدار', 'عزيزان', 'کهی', 'لجاج', 'کج', 'اقصی', 'گردید', 'آموختم', 'عاشقم', 'بگیریم', 'مریدی', 'آل', 'احسن', 'تاند', 'آبت', 'موران', 'گزار', 'حوران', 'أعلم', 'جوشیده', 'پادشا', 'نوبهاری', 'نمیرسد', 'مالی', 'میخواست', 'بنگرد', 'دمشقیم', 'نبشته', 'پاست', 'بیگانگان', 'بجویی', 'آهنی', 'عبد', 'واجبست', 'لباب', 'ندای', 'نعمتی', 'گدائی', 'تنتن', 'گريز', 'نتانی', 'خبرت', 'وامق', 'کودک', 'نسیمی', 'مفرش', 'میگردد', 'عهدی', 'فسوس', 'جاوید', 'کرديم', 'شهسوار', 'شکستن', 'ناخن', 'دوخته', 'تابه', 'انواع', 'نماندست', 'مینگرم', 'خلاصه', 'خطی', 'شعبده', 'جغدان', 'امل', 'ننگری', 'خانقه', 'غمم', 'دریچه', 'نزع', 'سرمستی', 'قباد', 'شکران', 'خراباتی', 'آينه', 'کلیم', 'الناس', 'ویم', 'قبایی', 'ضعفِ', 'اخلاق', 'حريف', 'نوازش', 'شکفت', 'ذوفنون', 'اویی', 'افتی', 'میدهند', 'اخلایی', 'مناسب', 'وارهان', 'يغما', 'مضی', 'يارا', 'جهانش', 'حواله', 'کنش', 'ولایت', 'خورشیدش', 'فروکن', 'مجرمان', 'دلقك', 'تفکر', 'لولیان', 'میخوری', 'فما', 'دلخواه', 'سبیل', 'کودکان', 'گمرهی', 'نقشها', 'گوری', 'طالبی', 'تاسه', 'مضمر', 'بگویمت', 'صفتی', 'لسان', 'سبد', 'قماش', 'اثیر', 'مژه', 'نجس', 'رفتیم', 'مرادت', 'بیایی', 'خاندان', 'بخرام', 'ممکن', 'غیبت', 'آئید', 'ژرف', 'غل', 'مَرد', 'شمن', 'چنینی', 'خونبهای', 'بریان', 'سرشک', 'امرود', 'تعجب', 'موشی', 'مهمانی', 'لحاف', 'دمادم', 'حصه', 'زلت', 'اختری', 'بگذاشت', 'بازآيد', 'فشار', 'موافق', 'ذوالجلال', 'بادت', 'بتاب', 'فسق', 'ری', 'چستی', 'اماره', 'پنداشتی', 'چشمها', 'بنور', 'فردای', 'افزود', 'اری', 'عیدی', 'سوری', 'رُسته', 'كشم', 'بستر', 'بنمی', 'قلت', 'ظنّ', 'شهیدان', 'منزه', 'شری', 'سم', 'شنیدن', 'حیاتست', 'نصوح', 'نهانم', 'کنیزک', 'کمی', 'دویدم', 'حاجی', 'بشنوید', 'سراپرده', 'آمدش', 'بدتر', 'پریده', 'میانشان', 'ربیع', 'انتها', 'ریب', 'لئیم', 'ُكشته', 'اكبر', 'مُهر', 'دانگ', 'دجله', 'مژگان', 'آزادم', 'دویدن', 'مسخ', 'بابل', 'چراگاه', 'خجالت', 'درستی', 'فریق', 'كهف', 'بناگوش', 'بیانش', 'واندر', 'فرما', 'افکن', 'مقصد', 'غير', 'احولی', 'زلفین', 'استت', 'بشوی', 'کژی', 'اشتیاق', 'زمهریر', 'آوه', 'کارها', 'غمان', 'غریبان', 'آهنین', 'دارید', 'درمانی', 'مسی', 'جوشی', 'اغا', 'حشیش', 'کنت', 'جعفری', 'عندی', 'نبينی', 'بگریخته', 'مغفرت', 'خطبه', 'گزان', 'بول', 'كمر', 'زیرك', 'برداشته', 'پوسی', 'نستیزی', 'ردّ', 'باخبر', 'جذبِ', 'غمازی', 'ایجاد', 'چابک', 'دیرینه', 'قدوم', 'شکيبايی', 'شمشاد', 'غايب', 'حیّ', 'زينهار', 'آبروی', 'پیشانی', 'دير', 'ستانی', 'تشبیه', 'نخسبی', 'دهدت', 'رایی', 'حسها', 'راهت', 'یزل', 'سیماب', 'یاسین', 'قندی', 'منسوخ', 'یادت', 'جانهای', 'حتی', 'زكات', 'هموار', 'بوئی', 'بميرم', 'آشام', 'کوهی', 'منزلی', 'کاهش', 'خضری', 'پیلان', 'نکوست', 'ازو', 'مینرود', 'کهسار', 'ابدی', 'سنجق', 'مستقر', 'رنجوران', 'نمیبینم', 'نمودم', 'بالاست', 'بشری', 'توقف', 'بیهوش', 'نشانم', 'فیما', 'حجب', 'اژدهای', 'الوصل', 'غلاف', 'پلاس', 'موسم', 'میجهد', 'مصادره', 'حلوایی', 'وعدۀ', 'نشستن', 'کرکس', 'سپری', 'چاکری', 'مكرر', 'شباب', 'تاریكی', 'پرسان', 'نعرۀ', 'مگسی', 'نمیکنی', 'گفتهاند', 'دردانه', 'خستی', 'مقدم', 'مسلمین', 'آسایش', 'اوباش', 'صیدِ', 'بنالم', 'آهوان', 'اشکسته', 'خمیر', 'بشناسد', 'گردونی', 'مغزی', 'ولیكن', 'خروار', 'حسودان', 'بفرما', 'حیث', 'چونت', 'فقیران', 'بدنام', 'وفق', 'موت', 'بپذیر', 'ناگفته', 'میباید', 'بخفت', 'قلاوز', 'كرام', 'تره', 'نواز', 'سرست', 'بگریسته', 'زیانی', 'بيخ', 'بشتاب', 'افزاید', 'تلبیس', 'مل', 'بیمارم', 'جنازه', 'نهادیم', 'نشنیده', 'ربوده', 'حنانه', 'صیقلی', 'بامدادان', 'سينه', 'ابدا', 'بهم', 'فلکی', 'تأمل', 'اوفتاده', 'پیكار', 'چیره', 'علیهم', 'پیراهن', 'جاذب', 'اشكم', 'چالاک', 'آتشت', 'گيرد', 'طارم', 'رهین', 'عدن', 'بنمایم', 'کاهلی', 'مكتب', 'شماری', 'اتی', 'اندازم', 'مراعات', 'درافتد', 'سرود', 'بریزم', 'سرخوش', 'درزی', 'نگهدار', 'نامحرم', 'یری', 'ملایک', 'نمط', 'نمیتوان', 'چشمهای', 'چشید', 'نفوس', 'حب', 'شفیع', 'جوانان', 'عجبتر', 'خونین', 'میاموز', 'جفتی', 'هنری', 'برونی', 'محفوظ', 'بیایید', 'اینكه', 'سفری', 'یكیست', 'تعبیر', 'بیضا', 'وفات', 'پارسا', 'اصلش', 'درین', 'بدش', 'صبی', 'کاسد', 'تحقیق', 'كمی', 'سخته', 'شکلی', 'اينست', 'حاجات', 'تیرگی', 'زیركی', 'پانصد', 'صنوبر', 'کامی', 'نمیدهد', 'تاتار', 'قندیل', 'حزن', 'فروشی', 'ثمین', 'كوهها', 'كباب', 'مسیحی', 'دردها', 'رموز', 'سیخ', 'خوانند', 'تیرش', 'مستت', 'گوشمال', 'کشدا', 'جرمی', 'سبك', 'بمال', 'بگفته', 'پندم', 'صابر', 'امكان', 'اطراف', 'آگاهی', 'اسما', 'بنمودی', 'خواندم', 'میخواهد', 'مروت', 'جنگی', 'رفیقان', 'بحل', 'اولا', 'اعجمی', 'وزان', 'روستایی', 'بستانم', 'بگریخت', 'گردنش', 'نجهد', 'کوس', 'اویم', 'ننماید', 'آزمون', 'شدستم', 'بپوشم', 'فروشان', 'ترنج', 'شومی', 'خبث', 'هفتمین', 'هاده', 'بیوفا', 'چين', 'میدارد', 'کوکب', 'رمضان', 'ببينند', 'سنایی', 'آشنايی', 'میخورند', 'العیش', 'قلاب', 'معامله', 'دلبرم', 'دشمنم', 'عظیمست', 'پيدا', 'قامتت', 'کالصبر', 'شکرها', 'خیزید', 'نهادن', 'نمیدانم', 'نظران', 'گرداب', 'بنمایی', 'مشتاقی', 'کتاب', 'االله', 'کبریایی', 'کندت', 'بریدم', 'کرام', 'ميوه', 'رويم', 'نگارين', 'بنشين', 'نزل', 'سايه', 'همچنانک', 'سير', 'شربتی', 'برگردد', 'بديدم', 'بخواهم', 'برش', 'برگشاید', 'بينند', 'معتمدی', 'همرهان', 'رحیم', 'رهزنی', 'گفتنی', 'گولخن', 'پیچد', 'یوما', 'لبیک', 'محسن', 'رشد', 'البقا', 'ثقات', 'دُمّ', 'ساکنان', 'نازنینی', 'چونش', 'مستعان', 'خبیث', 'تفرقه', 'چوپان', 'نیکی', 'گلشکر', 'جهودان', 'ننگرد', 'موسیا', 'وانما', 'قدیمی', 'تأویل', 'دغایی', 'كاهلی', 'روزنی', 'فتنۀ', 'زانوی', 'فرات', 'افزونی', 'بوک', 'ارباب', 'سید', 'ذوقی', 'نزاع', 'اخبار', 'جویند', 'میداند', 'پشتش', 'بولهب', 'بیچون', 'ديدی', 'بیاب', 'خدمتت', 'تون', 'بسط', 'بجَست', 'پاكان', 'کاهی', 'آزر', 'ریزه', 'زندگان', 'نوازد', 'میدید', 'نکنیم', 'لدن', 'حاجب', 'جوهری', 'زادن', 'مباح', 'وضو', 'اژدهاست', 'بکوب', 'پیچید', 'علیین', 'صله', 'نفور', 'وگو', 'بگفتند', 'بندها', 'ینظر', 'رازها', 'وداد', 'تحرّی', 'ماضی', 'ابو', 'یابید', 'شبانه', 'کفم', 'ماهتاب', 'تگ', 'عثمان', 'سرشته', 'قوتی', 'قیاسی', 'استن', 'بُدَست', 'رهوار', 'زآنچه', 'عباد', 'منک', 'وسط', 'متن', 'مرداری', 'نقابی', 'اخلاص', 'نهفته', 'نقدِ', 'مجلسی', 'شنگ', 'شهم', 'تعالوا', 'وقوف', 'ادبار', 'بدند', 'قریب', 'فزای', 'شکرم', 'كردمی', 'نگذاشت', 'سركه', 'ابدان', 'مرسل', 'صادقان', 'جری', 'زاغان', 'ببرده', 'برشکن', 'تفاوت', 'میكشد', 'فنی', 'ملخ', 'آسانی', 'مویز', 'لافی', 'نرست', 'الامر', 'درگذر', 'ستیر', 'ریاض', 'لعلی', 'خوبش', 'هزیمت', 'رسانی', 'آخرین', 'غائب', 'افروختی', 'هماره', 'جماع', 'محرمی', 'ترازوی', 'تابع', 'طلوع', 'ریو', 'مطار', 'آینده', 'میباش', 'سازیم', 'زیرکی', 'العین', 'بازگشت', 'یادگار', 'پالوده', 'بالاتر', 'عشقیم', 'برزند', 'بارش', 'خيالت', 'میقات', 'زمام', 'دلربایی', 'خنگ', 'گردنت', 'حروف', 'شعار', 'پات', 'آنت', 'هستش', 'عیبی', 'علامت', 'رگی', 'امیدی', 'حوادث', 'ببارد', 'خدایش', 'نوشم', 'تاریکی', 'دیدمش', 'سرخی', 'عنصر', 'زعفرانی', 'مشرقی', 'معبر', 'رقصی', 'مستحق', 'جاهلی', 'عماد', 'مملکت', 'رسالت', 'بیفتد', 'خونش', 'حالتی', 'ضلالت', 'بيم', 'تاختن', 'گوشهای', 'نسازد', 'حرمان', 'مشوش', 'دواند', 'نتان', 'خاطرش', 'سرایی', 'ُشكر', 'رهیدی', 'توکل', 'لایزالی', 'بعث', 'إن', 'خزانی', 'جهی', 'برجسته', 'مدحت', 'بریزی', 'دروازه', 'شمه', 'شكاف', 'نتانم', 'باشید', 'تیمار', 'بالی', 'توتیا', 'افتخار', 'کویش', 'دیوانگان', 'چارده', 'حفره', 'كفن', 'نشیب', 'عذاری', 'مجمر', 'پروین', 'اولیاست', 'كشند', 'زینت', 'ابروان', 'آکنده', 'منکران', 'بودت', 'جفاست', 'خوفِ', 'غسل', 'یادش', 'قهرش', 'شمعم', 'چندانک', 'گنگ', 'گشای', 'راحتی', 'كاید', 'دلشده', 'چاك', 'مینا', 'کوثری', 'مردۀ', 'هشیاران', 'گشادم', 'تیغی', 'تراش', 'مکافات', 'زرگری', 'غش', 'حقّ', 'تاختیم', 'برگها', 'بادش', 'مطر', 'امتحانی', 'ازلی', 'زیبای', 'مسعود', 'موصل', 'لَمْ', 'نواله', 'ُكشد', 'طلاق', 'جامم', 'شرحش', 'کرامات', 'رشاد', 'گوئیا', 'بگذاری', 'قدید', 'خلف', 'بينم', 'محكم', 'یاغی', 'گند', 'درآی', 'برداشتند', 'اضداد', 'قياس', 'بیحد', 'خدعه', 'دلاله', 'اینی', 'ُكش', 'خاشاك', 'داشتند', 'بالغ', 'نگارم', 'موجود', 'آشیان', 'آزاده', 'وهمی', 'ببينم', 'برت', 'شغال', 'انما', 'قافیه', 'علیم', 'شویی', 'جمشید', 'مند', 'معجز', 'تاراج', 'طامع', 'الصبر', 'رنگها', 'راجعون', 'نامدار', 'شیرینتر', 'العقل', 'تغییر', 'بجای', 'صوفئی', 'ديدمی', 'پیچان', 'تخمه', 'مستعد', 'بودشان', 'توبۀ', 'ماندند', 'رستمی', 'عجوزه', 'صفایی', 'گشایش', 'كنده', 'شقایق', 'نداریم', 'شهاب', 'خشمگین', 'میار', 'ستار', 'البشر', 'نزاری', 'ناامیدی', 'یسار', 'دامش', 'پريشانی', 'درآیم', 'راهب', 'دلبند', 'مطبوع', 'مشرف', 'روحانیان', 'سحابی', 'جدال', 'البدر', 'چشیدم', 'خندید', 'بدران', 'عون', 'سنگها', 'نفست', 'كدام', 'آخُر', 'گشتش', 'لرزید', 'جامد', 'نوشته', 'سجدۀ', 'سبزی', 'ِعشق', 'مساز', 'چنانی', 'فرموده', 'حسودی', 'كوتاه', 'مقامات', 'هکذا', 'غزو', 'خارج', 'گريه', 'اهرمن', 'برآورده', 'کنارم', 'سحرست', 'خونابه', 'سزاست', 'نازش', 'گفتنش', 'دعاها', 'مستفید', 'کنده', 'خسبی', 'دهلزن', 'کردهام', 'جنتی', 'نوشند', 'آيينه', 'فرار', 'تبش', 'گزد', 'رکوع', 'كوهِ', 'ساقیی', 'شرابِ', 'فعلاتن', 'جیفه', 'کآید', 'غمست', 'نورم', 'جگرها', 'جرعهای', 'بکردی', 'عنی', 'برآوردی', 'رفو', 'کالبد', 'خودش', 'دردمندان', 'بَرد', 'ضمان', 'علیل', 'زردم', 'مادران', 'خوابت', 'بنهادم', 'دگرم', 'شکرخانه', 'مغزها', 'نارم', 'منال', 'تازد', 'برجهد', 'پرورد', 'قاصدا', 'رسیدند', 'مومی', 'نشناسی', 'کوب', 'امیدِ', 'ستوران', 'بگه', 'عما', 'سخنهای', 'مولانا', 'کهف', 'راغ', 'جه', 'عبر', 'عادل', 'بنگريد', 'كفران', 'میکن', 'نادانی', 'عارفی', 'نواحی', 'دستها', 'مستتر', 'طومار', 'یشا', 'سبطی', 'پيکر', 'بيابان', 'خرمنی', 'سرخوشان', 'مُردن', 'راستان', 'ارغنون', 'گازر', 'خل', 'تأنی', 'بادست', 'پايی', 'ارکان', 'پویان', 'شتران', 'منكری', 'خانگی', 'غرقاب', 'سیاست', 'منعم', 'خرابه', 'منظری', 'نبندد', 'دیواری', 'ذاتِ', 'حریر', 'نيستيم', 'برتری', 'خایی', 'کویی', 'داعی', 'گدازد', 'نویس', 'خربنده', 'نوازی', 'ماندست', 'همام', 'سنقر', 'گندمی', 'بقیۀ', 'پيشت', 'آزمودم', 'خوبرويان', 'روانش', 'تبسم', 'کیقباد', 'مکرر', 'اوستا', 'لام', 'جوشید', 'لوط', 'نگيرد', 'بگفتش', 'بطن', 'اللهی', 'معتبر', 'كران', 'وحل', 'معاویه', 'صرصر', 'تفحص', 'تردّد', 'حیدر', 'بک', 'قرض', 'فهو', 'طاغی', 'توم', 'تنن', 'خطه', 'دران', 'تَعالَوْا', 'برپر', 'دَر', 'آكل', 'طربی', 'کهربای', 'قایم', 'پنهانست', 'چالاك', 'حصار', 'مخلد', 'طناب', 'افکنی', 'صفرای', 'افلاطون', 'منازل', 'بَری', 'موجش', 'قُلْ', 'رسولان', 'گدايی', 'شکرخایی', 'فخ', 'صفوت', 'نگریختم', 'ُكنی', 'مشوران', 'ادراک', 'باشدت', 'زیادت', 'بختِ', 'صدپاره', 'میفکن', 'جزوت', 'مردمک', 'اعضا', 'بشکستم', 'گسسته', 'توش', 'دردش', 'گِردِ', 'رنگِ', 'كساد', 'فشاری', 'نورانی', 'اذ', 'سرگران', 'پيرهن', 'غیور', 'بنشیند', 'بینای', 'ربایی', 'ترکوا', 'بگردیم', 'قوله', 'تراب', 'سریر', 'بداده', 'گلرخان', 'دکانی', 'پاسخ', 'صلایی', 'كدیه', 'رصد', 'فصیح', 'پارس', 'مجاعت', 'جامش', 'کجایید', 'العباد', 'مظلم', 'خيل', 'نبودت', 'كنعان', 'فاضل', 'تیرم', 'ترتیب', 'درآرد', 'بلاد', 'سران', 'شامی', 'جوییدش', 'خیزان', 'سندی', 'دلخوش', 'بیخودم', 'دهش', 'گوناگون', 'مقتدا', 'دهدم', 'بیماران', 'مغلطه', 'اسیری', 'جراحت', 'پرّان', 'لانه', 'اسبی', 'پذیری', 'حدی', 'خفاشی', 'رجال', 'شین', 'منکری', 'كانچه', 'نزاد', 'مقعد', 'برکشد', 'ظلمتی', 'كدو', 'نقوش', 'ابرها', 'هوسش', 'جاودانی', 'تی', 'گذاشت', 'نمایند', 'یکدگر', 'مرهمی', 'عصایی', 'بادۀ', 'تاریخ', 'فراشت', 'مالك', 'گان', 'كبریا', 'فاعل', 'جفّ', 'پیك', 'غافلی', 'برقع', 'رفتست', 'گماشت', 'باریك', 'چرخه', 'البصر', 'همراهی', 'سروقد', 'الکاس', 'واحد', 'عضو', 'مخبر', 'عرصۀ', 'نزديک', 'پادشه', 'هزل', 'ابجد', 'بگشایند', 'خضرا', 'كیستی', 'بدوز', 'جعل', 'دیگی', 'کری', 'ابا', 'نیابم', 'پذیرا', 'سخاوت', 'انكه', 'بینید', 'سپردن', 'عمان', 'ساختند', 'گردنده', 'تركیب', 'حاضران', 'درونت', 'میزدم', 'ُكشت', 'نری', 'کوبی', 'بردبار', 'روشنیست', 'هویی', 'نذیر', 'چهل', 'دانستن', 'بازگونه', 'پیغمبران', 'خرقۀ', 'نگذرد', 'كشیده', 'فتا', 'پیغمبری', 'بینیم', 'فوادی', 'حجیب', 'فضیحت', 'استارگان', 'آذری', 'بلاها', 'مرتضی', 'اخی', 'دوشاب', 'جفتِ', 'آشكارا', 'خوردِ', 'سوء', 'هلد', 'صبرت', 'ميدان', 'صریح', 'فضیلت', 'نجویم', 'بدزدد', 'قابلیت', 'یعلمون', 'مادرش', 'بخار', 'مرتبت', 'دوزی', 'هشته', 'باوفا', 'تقاضای', 'میزدی', 'میشدی', 'دویدی', 'دریاها', 'اسری', 'تسو', 'ازان', 'خرگوشی', 'اولاد', 'كمپیر', 'مُشك', 'كوشش', 'مطیع', 'عودی', 'اژدرها', 'ِگل', 'شبانی', 'پرها', 'میكشید', 'نقب', 'حریصی', 'نهلد', 'خارها', 'جاسوس', 'رانده', 'گیرا', 'کندش', 'نردبانی', 'ریزان', 'شنوی', 'دهلیز', 'مبارکی', 'میت', 'شکرین', 'آزرده', 'قلندری', 'دنبال', 'نیاری', 'چکد', 'چگل', 'بحمدالله', 'دژم', 'بردارم', 'نفسش', 'قمار', 'شستم', 'متفق', 'غرامت', 'کشتگان', 'زيبای', 'ننوشم', 'میدیدم', 'تحسین', 'نهادهایم', 'شادمانی', 'اندازی', 'پرستم', 'سواران', 'طهارت', 'زیارت', 'فرمایی', 'یادِ', 'پولاد', 'مقرر', 'حمرا', 'خربزه', 'فروکش', 'عنقای', 'اجری', 'بدانستی', 'معاش', 'پيوند', 'زلفی', 'ننشست', 'دستاری', 'شاهراه', 'خطایی', 'بهی', 'بگشود', 'مرنجان', 'کشیدن', 'بهتان', 'جامت', 'دلستانی', 'بگشادی', 'حسنی', 'شاهین', 'فضای', 'دريغا', 'فقير', 'خداوندگار', 'ولد', 'شاهم', 'شریعت', 'برخوردار', 'قهقهه', 'بزنم', 'بنشاند', 'باکی', 'روزست', 'قیر', 'الغیاث', 'حاسد', 'متی', 'جاویدان', 'زنگار', 'خامشان', 'دهنم', 'مهری', 'گرفتارم', 'سببی', 'ندادی', 'بازرگان', 'میبود', 'مرنج', 'ترحم', 'سحرم', 'عبهر', 'نقشش', 'ادر', 'خوشدلی', 'نظام', 'مظفر', 'هرک', 'ملولم', 'مگرد', 'سخنان', 'شجاع', 'مخواه', 'خوردیم', 'ضرورتست', 'زمانم', 'نزنم', 'بیداد', 'امثال', 'مخند', 'بختت', 'ناگاهان', 'بشناختم', 'گوسفند', 'گفتاری', 'روزش', 'گذاری', 'سپاهی', 'گدازان', 'پاداش', 'جوابم', 'برخیزم', 'قبضه', 'فردی', 'گرفتاری', 'بدانند', 'العشاق', 'جهودی', 'نخوردی', 'نمیداند', 'گرفتند', 'نجم', 'بخورم', 'دردت', 'کنجی', 'صفاست', 'فرورفت', 'شاهنشهی', 'مینهی', 'قدمش', 'سمرقند', 'رنجه', 'اعزاز', 'آورند', 'برفتی', 'صدای', 'معشوقان', 'بختم', 'سهیل', 'آمدت', 'ملالت', 'نمیتوانم', 'علل', 'خبرش', 'شکنجه', 'بپرسید', 'حکيم', 'عمرها', 'فعلی', 'سخنها', 'خوردش', 'پزد', 'فشانی', 'حوصله', 'افسر', 'رومیان', 'نوم', 'برستم', 'جهانست', 'كیف', 'مستوی', 'اصبع', 'آتشکده', 'گرز', 'معكوس', 'اطفال', 'دلشان', 'حاضری', 'گذرد', 'لايق', 'زادۀ', 'حیز', 'ممات', 'برگيرم', 'مستیان', 'منزلم', 'میدانم', 'فتراک', 'عجبا', 'عقلست', 'اسرارم', 'نیمیش', 'مرادم', 'جزر', 'افراشتی', 'دادست', 'هستت', 'بقاست', 'مول', 'امانم', 'شرقی', 'مد', 'مالش', 'بگویند', 'گذشتم', 'زبانش', 'بدعهدی', 'چنار', 'زمزم', 'عقرب', 'اولش', 'پندی', 'دعاست', 'یعقوبی', 'جن', 'مقالات', 'قصص', 'شق', 'فائده', 'کلّ', 'بگذاشتند', 'ارنی', 'روغنی', 'رسوایی', 'تردد', 'جانوری', 'دله', 'گیاهی', 'مکری', 'مهش', 'عيار', 'بوم', 'چشیدی', 'صدبرگ', 'اعلام', 'تتار', 'احمری', 'آموختن', 'برخیزی', 'غریبم', 'فراقش', 'کمالی', 'سیهی', 'رشكِ', 'رنجها', 'میروند', 'آسودهايم', 'امینی', 'اوش', 'دورش', 'صدساله', 'بپوشان', 'اختلاط', 'علالا', 'بويی', 'نيافته', 'مسكن', 'تخمی', 'مزور', 'اعلا', 'سمند', 'اوت', 'فروبند', 'روزافزون', 'شحنۀ', 'المنن', 'اندرخور', 'طوف', 'الارض', 'رَشَد', 'فلاطون', 'منتهای', 'تواضع', 'میخواهم', 'رهِ', 'سپارد', 'بگذارد', 'همدمی', 'سبل', 'بنگ', 'مادری', 'خرمی', 'بمیرید', 'سبال', 'مگشا', 'جنبیدن', 'بگفتا', 'شبش', 'ادرار', 'گرامی', 'دلنواز', 'بیایم', 'ٍ', 'اصحابِ', 'فاعلاتن', 'خطای', 'طبعی', 'عناصر', 'فراقم', 'عاشقانش', 'برگذری', 'سپرده', 'معدۀ', 'پندارند', 'روستائی', 'بازت', 'گلزارم', 'پُشت', 'میراند', 'محمل', 'درمانده', 'مدارا', 'همۀ', 'وصفش', 'بخوری', 'نیلوفر', 'مقر', 'یقینی', 'خونبها', 'بجوش', 'احیا', 'بوسی', 'معمار', 'بپوشید', 'اغيار', 'مذهبی', 'یقول', 'اختیارش', 'دانشمندی', 'مغربی', 'نگويد', 'بلقیسا', 'الفت', 'سجودی', 'مأیست', 'ترسانی', 'بیزاری', 'بنای', 'دادمی', 'بیاموزید', 'بگرفتی', 'دوشم', 'درآيد', 'آخرش', 'دامم', 'وافی', 'حبر', 'احمقان', 'برباید', 'ناگهانی', 'حلالست', 'مگرش', 'نشکیفتم', 'مشکی', 'آبگينه', 'مهرش', 'برگذشت', 'نگوئی', 'جلدی', 'شعاعش', 'گویمش', 'صورتها', 'لك', 'آسمانها', 'نبیذ', 'رامین', 'مقابل', 'برمد', 'خاکش', 'قيمت', 'ضیایی', 'گوار', 'برجا', 'قنینه', 'دگرگون', 'نمکی', 'ملعون', 'طنز', 'بیابم', 'بندش', 'كیمیای', 'صوفیی', 'همدل', 'البقر', 'هبا', 'دوزد', 'نگرید', 'بنشانی', 'خواهان', 'ببار', 'خریداری', 'خفتگان', 'پيام', 'ایمانی', 'نخوانم', 'نتیجۀ', 'مرحوم', 'کیم', 'بگشت', 'الکن', 'فشانم', 'جنگِ', 'عاق', 'خرند', 'جمادات', 'عابد', 'پرند', 'بميرد', 'گولی', 'ویند', 'ناشسته', 'غلامت', 'کهکشان', 'حالم', 'عثار', 'عمدا', 'مژدگانی', 'بيان', 'تصرف', 'سنگسار', 'بیابانی', 'موجی', 'دندانه', 'نيکوان', 'کارت', 'سقاهم', 'بگنجد', 'جوار', 'میفزود', 'كاله', 'حالشان', 'نهادند', 'الفواد', 'بهایی', 'کودکی', 'شدید', 'صدقات', 'هفته', 'واگشت', 'فرمای', 'انداختن', 'بشوید', 'ذلیل', 'بوالفضول', 'بسازیم', 'میتوان', 'دلهای', 'مخر', 'واده', 'آزمود', 'پيغام', 'آیا', 'ماهش', 'زمرد', 'آزری', 'جوزا', 'صالحان', 'برخواند', 'چارۀ', 'بردش', 'پاكِ', 'سیف', 'مضطرب', 'امتان', 'عهدها', 'پسندد', 'باديه', 'خدائی', 'وحوش', 'هستیم', 'آونگ', 'پرخمار', 'خمیده', 'کردت', 'هجده', 'غریق', 'افشاند', 'نتافت', 'کلا', 'عندلیب', 'گیتی', 'بیندیش', 'تاختی', 'ستایش', 'کرمت', 'هود', 'صفر', 'بیکران', 'طغرای', 'بوجهل', 'اساس', 'شبهه', 'شرمی', 'اصبعین', 'الامین', 'مستهان', 'اعمال', 'دقیق', 'عمیق', 'بوالعلا', 'خندۀ', 'سرانجام', 'طاب', 'عقاب', 'شکی', 'كج', 'بیاری', 'قاب', 'فرشتگان', 'شیراز', 'شكن', 'سرکشان', 'سِر', 'طلبیم', 'وجد', 'نمیدانی', 'بُدم', 'استاده', 'جانیم', 'عوانان', 'برادران', 'بوسید', 'بازد', 'کاسا', 'فزایش', 'نشینان', 'كاتش', 'مویت', 'جاش', 'دیدگان', 'هویدا', 'جباری', 'یوز', 'كشیدش', 'بخشم', 'درا', 'نخفت', 'شکرلب', 'گزیند', 'پیغامی', 'حالیا', 'اسپید', 'ذی', 'جنات', 'معبود', 'خویی', 'وگرنه', 'گنجها', 'قلاش', 'دروغین', 'بمیری', 'بگردانید', 'پشمینه', 'تمکین', 'نیستان', 'همرهی', 'رنجش', 'قاهر', 'آماده', 'باخودی', 'کریمی', 'حباب', 'مطلوبی', 'مهرت', 'رهند', 'میداد', 'برآریم', 'فايده', 'فردایی', 'نابینا', 'ترکانه', 'روبهی', 'کمترین', 'دویده', 'غلطی', 'نبايد', 'كمند', 'افکندم', 'آفریده', 'هنرها', 'وقار', 'مغانه', 'مطبخی', 'جواد', 'لطيف', 'کردار', 'وبا', 'طب', 'آفتابم', 'دریدن', 'بيدار', 'بوش', 'رويش', 'خرمنگاه', 'محالست', 'نمازی', 'بدنامی', 'سازند', 'افكن', 'مستمر', 'گویای', 'میفرستمت', 'شیب', 'آرایش', 'جیم', 'یارت', 'نهید', 'نپندارم', 'آورید', 'حاجیان', 'بیل', 'گشایم', 'خیانت', 'گاوان', 'باف', 'کابین', 'بگردانم', 'واری', 'حوالی', 'لنگی', 'میبايد', 'اسراری', 'باغها', 'گشتمی', 'فطام', 'مأكول', 'نخواهیم', 'نمیگيرد', 'گلستانش', 'شنوم', 'معصیت', 'باقیست', 'غرقم', 'بینان', 'آرایی', 'ارغوانی', 'رهت', 'غبی', 'تظلمونا', 'خاطری', 'الهم', 'پنهانم', 'تلوین', 'اللیل', 'هواه', 'عشقا', 'سروبالا', 'الفراق', 'محبان', 'ُنه', 'حالش', 'آیس', 'وحش', 'ترست', 'فاسقنیها', 'ظاهرا', 'سبحانی', 'کویت', 'ندانمت', 'بخندی', 'سیاره', 'عجمی', 'بتوان', 'زشتِ', 'اناالحق', 'ثعبان', 'گیرش', 'یفعل', 'بمُرد', 'پیشی', 'پگاه', 'وفادار', 'پَری', 'سعید', 'الحاح', 'میران', 'هدایت', 'وثن', 'موذن', 'رهزنان', 'نقدی', 'جنه', 'سرمد', 'درآییم', 'بنهند', 'سقای', 'میجویی', 'خصمان', 'كاوست', 'پیوندی', 'میچکد', 'دلربای', 'جادویی', 'سعديست', 'پشته', 'رهانم', 'ناصر', 'گنجم', 'مرگم', 'غدر', 'فریبیدن', 'ملولان', 'ندانستی', 'پریدی', 'دجال', 'کلبه', 'فرمايی', 'انسی', 'نبودست', 'عنه', 'بکاری', 'لسانی', 'نشناخت', 'برجی', 'سرمستان', 'بمیر', 'پرباد', 'الرحیل', 'همانست', 'دمساز', 'بازیچه', 'چنانش', 'هرچه', 'مانا', 'دادیم', 'کشور', 'افزوده', 'صغیر', 'نيش', 'خاکست', 'قاصر', 'سِحر', 'نيارد', 'صخره', 'ننوشد', 'حیاتم', 'یارش', 'خوشدل', 'اکرام', 'درختِ', 'نمرد', 'سقام', 'ضمير', 'دلالت', 'شعیب', 'طامات', 'یوسفم', 'طاعتی', 'که:', 'قیامتی', 'عنب', 'شستی', 'معظم', 'حدیثش', 'اعوذ', 'هرجایی', 'مستک', 'قفلی', 'کلوخی', 'خویشش', 'نیستیم', 'اغیاری', 'كراهت', 'خلود', 'ثمود', 'لنگری', 'توبره', 'میمون', 'پنهانک', 'وصلم', 'درآورد', 'رازدار', 'سحرگاه', 'پیرم', 'محرومی', 'اشتاب', 'بیاموزد', 'سگِ', 'ندانست', 'مالامال', 'مسکینی', 'حاکمی', 'خبرها', 'رکن', 'بَدی', 'لها', 'خوشیم', 'نپرسد', 'غلطم', 'فکری', 'سوالی', 'مهد', 'عتو', 'نیلی', 'نوبتِ', 'شغل', 'درافکن', 'بشناخت', 'طفیل', 'رطب', 'دَد', 'نوروزی', 'روحم', 'پرغم', 'غواص', 'مکانی', 'شکرریزی', 'فرماید', 'روت', 'خندق', 'عقب', 'پاکت', 'برکنده', 'ایاک', 'انده', 'بريزد', 'مرگش', 'مدهید', 'خلافت', 'بیگه', 'غزلی', 'کمانم', 'نوید', 'درفشان', 'بیامدیم', 'دلگشا', 'صندوقی', 'هنجار', 'مُراد', 'پگه', 'بکردم', 'عزا', 'شکافد', 'جامع', 'صلات', 'بمان', 'آمدهای', 'کردهای', 'زبانت', 'سازید', 'کودن', 'امرش', 'بهرام', 'جفاها', 'شکرلبی', 'ترجمانی', 'ريخت', 'المدام', 'دررو', 'القاب', 'بشکفت', 'ارجمند', 'نرخ', 'ماهیت', 'معلا', 'تکلف', 'شهزاده', 'الامان', 'عجبست', 'تبارک', 'فاخر', 'اذن', 'بجا', 'ننهی', 'عباس', 'منظوری', 'كلاه', 'ژیان', 'انجام', 'هندوستان', 'اوصافِ', 'فام', 'میدار', 'گفتمت', 'کفار', 'خسوف', 'ثبت', 'رهان', 'ستارگان', 'زخمت', 'كرّه', 'سكون', 'استیز', 'دلبرا', 'معنیست', 'بیوفايی', 'معاد', 'جانبی', 'دريای', 'خلیفۀ', 'ستانم', 'برهانم', 'میخواند', 'كرباس', 'تلختر', 'سمین', 'كاشكی', 'نشنوم', 'انداختند', 'جنباند', 'طیر', 'كارزار', 'خماران', 'خوشان', 'تاوان', 'ناامید', 'اركان', 'زنگله', 'فقه', 'الحزن', 'نرويم', 'آرای', 'بگذشتی', 'رسوائی', 'زشتان', 'كاغذ', 'پهلوانی', 'طاعات', 'نیستیست', 'مبا', 'رائی', 'ننگِ', 'هشی', 'ناورد', 'بخوانم', 'خوشتری', 'كارگاه', 'خوانش', 'خمی', 'گوهرش', 'بیاورد', 'اثرها', 'دلشاد', 'كله', 'وری', 'گفتنم', 'ناهموار', 'گویدم', 'تاجر', 'حسب', 'ذهب', 'خه', 'بدخشان', 'سوداست', 'ترسنده', 'وارهید', 'سودمند', 'انتم', 'دریافت', 'لت', 'بگشایم', 'تفرج', 'تعیین', 'چالاکی', 'تسليم', 'لرز', 'رستیم', 'مندیش', 'لغت', 'مُرید', 'نمازش', 'برخاستیم', 'وله', 'سالک', 'دزدید', 'کما', 'سبکتر', 'الزمان', 'خطابی', 'لکن', 'انبیاست', 'بجویم', 'بجهی', 'كفی', 'بینایان', 'دادت', 'بنوازد', 'ذل', 'سبزوار', 'صورتگر', 'الساقی', 'غبین', 'خندیده', 'مستغرق', 'بُر', 'همکاسه', 'درند', 'کینی', 'شدت', 'دریاهای', 'خاكها', 'بادها', 'فتن', 'کاف', 'وامگیر', 'فعال', 'وجودش', 'اعیان', 'مگویید', 'آموزی', 'حشمت', 'كیر', 'کنف', 'افشانی', 'تجارت', 'مجتبی', 'کاروانی', 'قرعه', 'دنیاست', 'فرمانم', 'نکردم', 'جنید', 'مرتبه', 'کاله', 'چیزها', 'پنداشتند', 'دره', 'جهاز', 'بهترین', 'چشد', 'بگذاشتی', 'معذورم', 'اندود', 'گشادست', 'عبهری', 'پرش', 'فاسقنا', 'مشرب', 'بشیر', 'حقیقی', 'بنمايی', 'توزیع', 'كاست', 'زیب', 'سکندر', 'بغیر', 'شکرش', 'جانبازی', 'آفل', 'تماشایی', 'بازآمدی', 'انتقال', 'نیایم', 'آموختند', 'زیبد', 'زیاده', 'وآنکه', 'سروران', 'بشکافد', 'بکشت', 'مالد', 'خدمتش', 'بهارم', 'بگويد', 'ارزانی', 'شِكر', 'اعدا', 'ُنقل', 'بارت', 'زآب', 'والی', 'بسکلد', 'منقش', 'حریصان', 'خنبک', 'كوزۀ', 'چیر', 'جنونی', 'باك', 'طوطیی', 'خَور', 'سدّ', 'نماندی', 'بدرم', 'الیقین', 'ریشخند', 'ملكِ', 'گلبرگ', 'كرسی', 'لوزینه', 'آبله', 'غراب', 'شناسم', 'جاده', 'بانگش', 'کشيد', 'آوازم', 'بشنوم', 'مفتعلن', 'نگذارم', 'دد', 'مفکن', 'مشتغل', 'مجیر', 'کآفتاب', 'انبوهی', 'العالمین', 'ببخشی', 'چنگم', 'جلاد', 'مالید', 'زَهره', 'ُكنج', 'نسب', 'فضلش', 'لهو', 'إِنَّ', 'خفیست', 'بخوردم', 'زادم', 'برپرد', 'حوت', 'گلرنگ', 'ضمیری', 'َخود', 'بطلب', 'تبار', 'بخست', 'گمشده', 'میآورد', 'شكفت', 'فریبد', 'سروش', 'کنمت', 'بپرسد', 'جنی', 'پرچم', 'ظلام', 'نشناسم', 'افشرده', 'فیها', 'بسوی', 'مرم', 'درونم', 'بلبله', 'رابطه', 'زندانیان', 'ماهِ', 'همچنانكه', 'برانداز', 'افكندی', 'التماس', 'زمزمه', 'کساد', 'چنینم']\n"
     ]
    }
   ],
   "source": [
    "words = list(model.wv.index_to_key)\n",
    "print(words)"
   ]
  },
  {
   "cell_type": "code",
   "execution_count": 83,
   "id": "3770f51c-d9fc-496e-8bc2-84fb0c6343cc",
   "metadata": {},
   "outputs": [
    {
     "data": {
      "text/plain": [
       "array([-0.04698091, -0.1401253 , -0.07654817,  0.22734834, -0.06678175,\n",
       "        0.00090582,  0.07530995,  0.22147553, -0.1482847 ,  0.0058273 ,\n",
       "       -0.072499  ,  0.16950685, -0.20974924,  0.15665384, -0.14422008,\n",
       "       -0.02687263, -0.07372432, -0.04148329, -0.14283295,  0.0167892 ,\n",
       "        0.08452214, -0.05065784,  0.05628373,  0.13097535, -0.00751171,\n",
       "       -0.00417947, -0.08582336, -0.00965248, -0.15164103, -0.06878202,\n",
       "       -0.14041875,  0.28836265, -0.00289311,  0.0564998 ,  0.02226426,\n",
       "        0.25238252,  0.12708561, -0.03907989, -0.05212362,  0.06018467,\n",
       "        0.0362278 ,  0.07058103, -0.02052375, -0.06478865,  0.11278445,\n",
       "        0.11333942,  0.00319163,  0.1800168 , -0.17143704,  0.02643592,\n",
       "       -0.09140281,  0.01199003,  0.04250928,  0.01914926,  0.23480904,\n",
       "        0.0010643 ,  0.02906655,  0.07815066, -0.00572171,  0.27992314,\n",
       "       -0.01179715,  0.17541121,  0.04755054, -0.06898612, -0.03217942,\n",
       "       -0.13108623, -0.02324696,  0.19088261,  0.16856058, -0.27277982,\n",
       "        0.07033639,  0.27348256,  0.23782606, -0.05562704,  0.21077518,\n",
       "       -0.00886585,  0.02379983, -0.0910774 ,  0.11206309,  0.04804718,\n",
       "       -0.10715397,  0.08427738,  0.04702634,  0.0478339 , -0.08267815,\n",
       "        0.10971754,  0.14722815, -0.00113313,  0.05479261,  0.03883187,\n",
       "       -0.11357695, -0.05700443,  0.28096867,  0.09674484,  0.10659096,\n",
       "        0.05523103, -0.04837508, -0.12725297,  0.05475821,  0.15275663,\n",
       "        0.0053637 ,  0.10132793,  0.10210457, -0.03074883, -0.06488694,\n",
       "       -0.11671633, -0.04314332, -0.08240903,  0.19390705, -0.0328251 ,\n",
       "        0.02112008,  0.10969662, -0.0054247 ,  0.00631415, -0.00086664,\n",
       "       -0.06232316, -0.17092866,  0.15334041, -0.13559179,  0.2816913 ,\n",
       "       -0.04545791,  0.10314923,  0.03214232, -0.05585261,  0.11826214,\n",
       "        0.04039668, -0.08895038,  0.05271981,  0.00193501, -0.04110543,\n",
       "        0.12144965, -0.41982037,  0.02126338,  0.02175937, -0.07317036,\n",
       "        0.02646409,  0.07551041, -0.09311543,  0.08792815, -0.0022178 ,\n",
       "        0.00639902, -0.08478086, -0.04165799,  0.10234265,  0.06972662,\n",
       "        0.05820003,  0.09945589,  0.0407751 ,  0.0875747 ,  0.03998523,\n",
       "       -0.00511855,  0.0342605 ,  0.06296439,  0.03723907, -0.05812047,\n",
       "       -0.02946265, -0.10677183, -0.04559552, -0.01068508, -0.12149291,\n",
       "       -0.00809346,  0.03657784, -0.01248512,  0.05127484, -0.13486102,\n",
       "        0.12161662,  0.12461962,  0.11038733,  0.14943323, -0.07835747,\n",
       "       -0.08527926, -0.06713625,  0.0105335 ,  0.01155185, -0.1841599 ,\n",
       "       -0.07368138,  0.0864184 , -0.21543841, -0.05771153,  0.19550912,\n",
       "       -0.07313101, -0.15099388,  0.1126362 , -0.11920613,  0.00851328,\n",
       "        0.02815007,  0.0329241 , -0.19177034, -0.01608892,  0.0271704 ,\n",
       "       -0.15483612, -0.04253228, -0.08811571,  0.08947746, -0.07217274,\n",
       "        0.10691132, -0.10931578, -0.02791504, -0.07491378,  0.04448348,\n",
       "       -0.18717037,  0.05088427, -0.1297965 , -0.04352333, -0.18039933,\n",
       "        0.0994482 ,  0.1969756 , -0.21658468,  0.00267958, -0.10450078,\n",
       "        0.12024043,  0.05094802,  0.0813388 ,  0.00545902,  0.15624115,\n",
       "       -0.11972134,  0.15951043,  0.01340696, -0.06952561, -0.23770216,\n",
       "        0.05445703,  0.01012385, -0.07655805,  0.11475058,  0.1296559 ,\n",
       "       -0.10492755, -0.12952903, -0.05624006,  0.02312501, -0.06391184,\n",
       "       -0.07048785, -0.08246791,  0.15115976,  0.01403473,  0.11397029,\n",
       "        0.07910343, -0.00704319, -0.00096596,  0.0316992 ,  0.15681462,\n",
       "       -0.01020545,  0.05334635, -0.15222399, -0.03617201, -0.06195162,\n",
       "       -0.10436697,  0.09901404, -0.17825408, -0.2072787 , -0.0238525 ,\n",
       "        0.00675892, -0.175557  , -0.06481898, -0.10295626,  0.11681512,\n",
       "       -0.07628889,  0.05566059, -0.07849424, -0.12499665, -0.14133598,\n",
       "       -0.23033045, -0.14063494, -0.00733676,  0.07276538,  0.01303517,\n",
       "       -0.09693105, -0.01544804, -0.06555468, -0.01652062,  0.05109526,\n",
       "       -0.18299899,  0.16721214,  0.0342929 , -0.05861654,  0.00116525,\n",
       "       -0.13166946, -0.06960047,  0.06652986, -0.01698637,  0.18471208,\n",
       "        0.11359882, -0.09311169,  0.08029154,  0.10199291, -0.04141031,\n",
       "        0.16870567,  0.19091313,  0.07679267,  0.03183131, -0.04621162,\n",
       "       -0.01381179,  0.15834561,  0.05183719,  0.03225938,  0.11589922,\n",
       "       -0.01384367, -0.05804775, -0.0011407 ,  0.09043578,  0.1320854 ,\n",
       "        0.0288554 ,  0.02729562, -0.03650323, -0.10675579, -0.01155163,\n",
       "       -0.22456604, -0.00371275, -0.0206716 , -0.01062628, -0.17891666,\n",
       "        0.17673638, -0.03034487,  0.08393992,  0.13469675, -0.18834595,\n",
       "       -0.00236871,  0.05163662,  0.00483261, -0.06173377,  0.01314593,\n",
       "        0.09670578,  0.04120268,  0.07979907,  0.09066223,  0.04327979,\n",
       "        0.00412807,  0.04117513,  0.07183442,  0.21529715, -0.05481812,\n",
       "       -0.07068505,  0.17163977, -0.09666808, -0.04159339,  0.04760157,\n",
       "       -0.05858999, -0.10047955, -0.01327064, -0.16458675,  0.0609662 ,\n",
       "        0.01830559,  0.01708379,  0.0157915 , -0.13044417,  0.07968415,\n",
       "        0.00505367,  0.01530526, -0.10890195,  0.08450838, -0.05275538,\n",
       "        0.03380921, -0.0920818 , -0.03394663, -0.03164244, -0.17296782,\n",
       "        0.13299967, -0.04404862,  0.01650405,  0.02350194,  0.08671709,\n",
       "       -0.02172789,  0.06936749,  0.13681811,  0.03274745, -0.03852624,\n",
       "        0.14912222,  0.20704745,  0.04362518, -0.10574388,  0.15612288,\n",
       "        0.08124555, -0.11215288,  0.06426825, -0.07984476], dtype=float32)"
      ]
     },
     "execution_count": 83,
     "metadata": {},
     "output_type": "execute_result"
    }
   ],
   "source": [
    "model.wv['عشق']"
   ]
  },
  {
   "cell_type": "code",
   "execution_count": 78,
   "id": "47d3ce20-e639-42c5-b13e-43e97c70b126",
   "metadata": {},
   "outputs": [
    {
     "data": {
      "text/plain": [
       "[('مهر', 0.8689514994621277),\n",
       " ('عشقت', 0.8682525753974915),\n",
       " ('عشقش', 0.8673311471939087),\n",
       " ('سودای', 0.8662551641464233),\n",
       " ('ازل', 0.8633405566215515),\n",
       " ('پرست', 0.8617318868637085),\n",
       " ('عار', 0.8615926504135132),\n",
       " ('جزوی', 0.8607897758483887),\n",
       " ('هوای', 0.8600603938102722),\n",
       " ('بسوخت', 0.8594909906387329)]"
      ]
     },
     "execution_count": 78,
     "metadata": {},
     "output_type": "execute_result"
    }
   ],
   "source": [
    "model.wv.most_similar('عشق')"
   ]
  },
  {
   "cell_type": "code",
   "execution_count": 84,
   "id": "053af777-aa05-4a01-9732-7f98dd556e1f",
   "metadata": {},
   "outputs": [
    {
     "data": {
      "text/plain": [
       "[('خسته', 0.8919686675071716),\n",
       " ('دلم', 0.8860045075416565),\n",
       " ('برده', 0.8698229789733887),\n",
       " ('جانان', 0.8664374947547913),\n",
       " ('چگونه', 0.8657290935516357),\n",
       " ('مهر', 0.8637043833732605),\n",
       " ('عشقت', 0.858798623085022),\n",
       " ('غمت', 0.8585320711135864),\n",
       " ('جانم', 0.8574946522712708),\n",
       " ('شیشه', 0.8573406934738159)]"
      ]
     },
     "execution_count": 84,
     "metadata": {},
     "output_type": "execute_result"
    }
   ],
   "source": [
    "#Find the top-N most similar words\n",
    "model.wv.similar_by_word(\"دل\")"
   ]
  },
  {
   "cell_type": "code",
   "execution_count": 85,
   "id": "41ae516a-86af-4964-805a-d329304daa7f",
   "metadata": {},
   "outputs": [
    {
     "data": {
      "text/plain": [
       "0.77788603"
      ]
     },
     "execution_count": 85,
     "metadata": {},
     "output_type": "execute_result"
    }
   ],
   "source": [
    "model.wv.similarity('عشق', 'دل')"
   ]
  },
  {
   "cell_type": "code",
   "execution_count": 86,
   "id": "3c55ad9d-d8df-46a1-9476-c3fbd33af141",
   "metadata": {},
   "outputs": [],
   "source": [
    "model.save(\"Model/word2vec.model\")"
   ]
  },
  {
   "cell_type": "code",
   "execution_count": null,
   "id": "20f80c5d-2407-4c94-a16c-7e8d698f4de3",
   "metadata": {},
   "outputs": [],
   "source": []
  }
 ],
 "metadata": {
  "kernelspec": {
   "display_name": "Python 3 (ipykernel)",
   "language": "python",
   "name": "python3"
  },
  "language_info": {
   "codemirror_mode": {
    "name": "ipython",
    "version": 3
   },
   "file_extension": ".py",
   "mimetype": "text/x-python",
   "name": "python",
   "nbconvert_exporter": "python",
   "pygments_lexer": "ipython3",
   "version": "3.8.20"
  }
 },
 "nbformat": 4,
 "nbformat_minor": 5
}
