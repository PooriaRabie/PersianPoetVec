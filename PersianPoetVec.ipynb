{
 "cells": [
  {
   "cell_type": "code",
   "execution_count": 1,
   "id": "4b4978cf-385c-462e-b366-2e54b4a3d65c",
   "metadata": {},
   "outputs": [
    {
     "name": "stdout",
     "output_type": "stream",
     "text": [
      "Requirement already satisfied: gensim in c:\\users\\masi\\anaconda3\\lib\\site-packages (4.3.3)\n",
      "Requirement already satisfied: numpy<2.0,>=1.18.5 in c:\\users\\masi\\anaconda3\\lib\\site-packages (from gensim) (1.24.3)\n",
      "Requirement already satisfied: scipy<1.14.0,>=1.7.0 in c:\\users\\masi\\anaconda3\\lib\\site-packages (from gensim) (1.10.1)\n",
      "Requirement already satisfied: smart-open>=1.8.1 in c:\\users\\masi\\anaconda3\\lib\\site-packages (from gensim) (5.2.1)\n",
      "Note: you may need to restart the kernel to use updated packages.\n"
     ]
    }
   ],
   "source": [
    "pip install gensim"
   ]
  },
  {
   "cell_type": "code",
   "execution_count": 2,
   "id": "3182df82-ff7c-4154-ae4c-97d5883dc1fe",
   "metadata": {},
   "outputs": [],
   "source": [
    "from gensim.models import Word2Vec\n",
    "import numpy as np\n",
    "import pandas as pd\n",
    "import matplotlib.pyplot as plt\n",
    "import Data\n",
    "from gensim.models import KeyedVectors\n",
    "from sklearn.decomposition import PCA\n",
    "\n",
    "%matplotlib inline"
   ]
  },
  {
   "cell_type": "code",
   "execution_count": null,
   "id": "5e420abd-6c8c-42b5-af86-c46d35cb0b82",
   "metadata": {},
   "outputs": [],
   "source": [
    "# فایل اصلی شما\n",
    "input_file = \"Data/persian_poet.txt\"\n",
    "# فایل خروجی تمیز شده\n",
    "output_file = \"Data/cleaned_ghazals.txt\"\n",
    "\n",
    "# خواندن و پردازش فایل\n",
    "with open(input_file, 'r', encoding='utf-8') as f:\n",
    "    lines = f.readlines()\n",
    "\n",
    "# پردازش خطوط برای حذف خطوط خالی و اعداد\n",
    "cleaned_lines = []\n",
    "for line in lines:\n",
    "    # حذف خط اگر خالی باشد\n",
    "    if line.strip():\n",
    "        # حذف اعداد از خط\n",
    "        cleaned_line = ''.join([char for char in line if not char.isdigit()])\n",
    "        cleaned_lines.append(cleaned_line)\n",
    "\n",
    "# نوشتن خطوط پاک‌شده در فایل خروجی\n",
    "with open(output_file, 'w', encoding='utf-8') as f:\n",
    "    f.writelines(cleaned_lines)\n",
    "\n",
    "print(\"Cleaning complete! Processed file saved as:\", output_file)\n"
   ]
  },
  {
   "cell_type": "code",
   "execution_count": 4,
   "id": "26b2f9b2-3c7b-4aea-b65d-785005295b19",
   "metadata": {},
   "outputs": [
    {
     "name": "stdout",
     "output_type": "stream",
     "text": [
      "Cleaning complete! Processed file saved as: Data/persian_poet_new_new.txt\n"
     ]
    }
   ],
   "source": [
    "input_file = 'Data/persian_poet_new.txt'\n",
    "output_file = 'Data/persian_poet_new_new.txt'\n",
    "\n",
    "with open(input_file, 'r', encoding = 'utf-8') as f:\n",
    "    lines = f.readlines()\n",
    "\n",
    "cleaned_lines = []\n",
    "for line in lines:\n",
    "    if line.strip():\n",
    "        cleanled_line = ''.join([char for char in line if not char.isdigit()])\n",
    "        cleaned_lines.append(cleanled_line)\n",
    "\n",
    "with open(output_file, 'w', encoding = 'utf-8') as f:\n",
    "    f.writelines(cleaned_lines)\n",
    "\n",
    "print(\"Cleaning complete! Processed file saved as:\", output_file)"
   ]
  },
  {
   "cell_type": "code",
   "execution_count": 5,
   "id": "cbba4b8a-8e9b-43a3-b585-09edede40690",
   "metadata": {},
   "outputs": [
    {
     "name": "stdout",
     "output_type": "stream",
     "text": [
      "Whitespace trimming complete! Processed file saved as: Data/persian_poet_final.txt\n"
     ]
    }
   ],
   "source": [
    "# فایل ورودی\n",
    "input_file = \"Data/persian_poet_new_new.txt\"\n",
    "# فایل خروجی\n",
    "output_file = \"Data/persian_poet_final.txt\"\n",
    "\n",
    "# خواندن و پردازش فایل\n",
    "with open(input_file, 'r', encoding='utf-8') as f:\n",
    "    lines = f.readlines()\n",
    "\n",
    "# حذف فاصله‌های اضافی از ابتدای و انتهای هر خط\n",
    "trimmed_lines = [line.strip() + '\\n' for line in lines]\n",
    "\n",
    "# ذخیره خطوط پردازش‌شده در فایل جدید\n",
    "with open(output_file, 'w', encoding='utf-8') as f:\n",
    "    f.writelines(trimmed_lines)\n",
    "\n",
    "print(\"Whitespace trimming complete! Processed file saved as:\", output_file)\n"
   ]
  },
  {
   "cell_type": "code",
   "execution_count": null,
   "id": "6f5c5e4e-361b-49a2-a317-9aba2653df9c",
   "metadata": {},
   "outputs": [],
   "source": []
  }
 ],
 "metadata": {
  "kernelspec": {
   "display_name": "Python 3 (ipykernel)",
   "language": "python",
   "name": "python3"
  },
  "language_info": {
   "codemirror_mode": {
    "name": "ipython",
    "version": 3
   },
   "file_extension": ".py",
   "mimetype": "text/x-python",
   "name": "python",
   "nbconvert_exporter": "python",
   "pygments_lexer": "ipython3",
   "version": "3.8.20"
  }
 },
 "nbformat": 4,
 "nbformat_minor": 5
}
